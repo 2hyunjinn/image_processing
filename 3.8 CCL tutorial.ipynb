{
 "cells": [
  {
   "cell_type": "code",
   "execution_count": 1,
   "id": "05b3af51",
   "metadata": {},
   "outputs": [],
   "source": [
    "import cv2\n",
    "import numpy as np"
   ]
  },
  {
   "cell_type": "code",
   "execution_count": 2,
   "id": "c8887a7b",
   "metadata": {},
   "outputs": [],
   "source": [
    "src = cv2.imread('./data/circles.jpg')\n",
    "gray = cv2.cvtColor(src, cv2.COLOR_BGR2GRAY) #바이너리 이미지로 변환\n",
    "ret, res = cv2.threshold(gray, 128, 255, cv2.THRESH_BINARY_INV)\n",
    "cv2.imshow('src', src)\n",
    "cv2.imshow('res', res)\n",
    "cv2.waitKey()\n",
    "cv2.destroyAllWindows()"
   ]
  },
  {
   "cell_type": "code",
   "execution_count": 3,
   "id": "6c842e19",
   "metadata": {},
   "outputs": [
    {
     "name": "stdout",
     "output_type": "stream",
     "text": [
      "ret= 4\n"
     ]
    }
   ],
   "source": [
    "ret, labels = cv2.connectedComponents(res) #라벨링\n",
    "print('ret=', ret) #background 1 + component 3 = 4"
   ]
  },
  {
   "cell_type": "code",
   "execution_count": 4,
   "id": "49251c05",
   "metadata": {},
   "outputs": [],
   "source": [
    "dst = np.zeros(src.shape, dtype=src.dtype)\n",
    "for i in range(1, ret) : #분할 영역 표시 - 라벨 별로 다른 색깔이 저장됨\n",
    "    r = np.random.randint(256)\n",
    "    g = np.random.randint(256)\n",
    "    b = np.random.randint(256)\n",
    "    dst[labels == i] = [b, g, r] \n",
    "    \n",
    "cv2.imshow('src', src) #원본\n",
    "cv2.imshow('res', res) #inverse\n",
    "cv2.imshow('dst', dst) #라벨링\n",
    "cv2.waitKey()\n",
    "cv2.destroyAllWindows()"
   ]
  },
  {
   "cell_type": "code",
   "execution_count": 5,
   "id": "7a3216d7",
   "metadata": {},
   "outputs": [
    {
     "name": "stdout",
     "output_type": "stream",
     "text": [
      "ret =  4\n",
      "stats =  [[     0      0    512    512 222719]\n",
      " [   308     86    125    125  12281]\n",
      " [   153    145    152    152  18152]\n",
      " [   292    338    107    107   8992]]\n",
      "centroids =  [[247.77339607 258.80937863]\n",
      " [370.         148.        ]\n",
      " [228.5        220.50534376]\n",
      " [345.00077847 390.99477313]]\n"
     ]
    }
   ],
   "source": [
    "ret, labels, stats, centroids = cv2.connectedComponentsWithStats(res) #라벨링\n",
    "print('ret = ', ret) #background 1 + component 3 = 4\n",
    "print('stats = ', stats) # 바운딩 박스 + area\n",
    "print('centroids = ', centroids) # 무게 중심의 x, y좌표"
   ]
  },
  {
   "cell_type": "code",
   "execution_count": 6,
   "id": "b938f4f6",
   "metadata": {},
   "outputs": [],
   "source": [
    "dst = np.zeros(src.shape, dtype=src.dtype)\n",
    "for i in range(1, int(ret)): #분할영역 표시\n",
    "    r = np.random.randint(256)\n",
    "    g = np.random.randint(256)\n",
    "    b = np.random.randint(256)\n",
    "    dst[labels == i] = [b, g, r]\n",
    "    \n",
    "for i in range(1, int(ret)):\n",
    "    x, y, width, height, area = stats[i]\n",
    "    cv2.rectangle(dst, (x,y), (x+width, y+height), (0,0,255), 2) #바운딩박스\n",
    "    cx, cy = centroids[i]\n",
    "    cv2.circle(dst, (int(cx), int(cy)), 5, (255,0,0), -1) # 무게중심\n",
    "    \n",
    "cv2.imshow('src', src)\n",
    "cv2.imshow('dst', dst)\n",
    "cv2.waitKey()\n",
    "cv2.destroyAllWindows()"
   ]
  },
  {
   "cell_type": "code",
   "execution_count": null,
   "id": "829f2065",
   "metadata": {},
   "outputs": [],
   "source": []
  }
 ],
 "metadata": {
  "kernelspec": {
   "display_name": "Python 3 (ipykernel)",
   "language": "python",
   "name": "python3"
  },
  "language_info": {
   "codemirror_mode": {
    "name": "ipython",
    "version": 3
   },
   "file_extension": ".py",
   "mimetype": "text/x-python",
   "name": "python",
   "nbconvert_exporter": "python",
   "pygments_lexer": "ipython3",
   "version": "3.9.7"
  }
 },
 "nbformat": 4,
 "nbformat_minor": 5
}
