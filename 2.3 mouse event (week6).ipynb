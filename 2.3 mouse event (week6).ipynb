{
 "cells": [
  {
   "cell_type": "code",
   "execution_count": 1,
   "id": "bd31b2f3",
   "metadata": {},
   "outputs": [],
   "source": [
    "import numpy as np\n",
    "import cv2"
   ]
  },
  {
   "cell_type": "code",
   "execution_count": 2,
   "id": "926fb349",
   "metadata": {},
   "outputs": [],
   "source": [
    "def onMouse(event, x, y, flags, param): # 인수의 순서는 반드시 맞춰야 함!\n",
    "    if event == cv2.EVENT_LBUTTONDOWN: #왼쪽을 눌렀다면\n",
    "        if flags & cv2.EVENT_FLAG_SHIFTKEY: # shift키도 같이 눌렀다면\n",
    "            cv2.rectangle(param[0], (x-5, y-5), (x+5, y+5), (255, 0, 0))\n",
    "        else: #왼쪽만 눌렀다면\n",
    "            cv2.circle(param[0], (x, y), 5, (255, 0, 0), 3)\n, # 빨간색 원\n"
    "            \n",
    "    elif event == cv2.EVENT_RBUTTONDOWN: #오른쪽을 눌렀다면\n",
    "        cv2.circle(param[0], (x, y), 5, (0, 0, 255), 3)\n",
    "        \n",
    "    elif event == cv2.EVENT_LBUTTONDBLCLK: #왼쪽을 더블클릭했다면\n",
    "        param[0] = np.zeros(param[0].shape, np.uint8) + 255\n",
    "    \n",
    "    cv2.imshow(\"img\", param[0])"
   ]
  },
  {
   "cell_type": "code",
   "execution_count": 4,
   "id": "f39b0dbe",
   "metadata": {},
   "outputs": [],
   "source": [
    "img = np.zeros((512,512,3), np.uint8) + 255\n",
    "cv2.imshow('img', img)\n",
    "cv2.setMouseCallback('img', onMouse, [img])\n",
    "cv2.waitKey()\n",
    "cv2.destroyAllWindows()"
   ]
  },
  {
   "cell_type": "code",
   "execution_count": null,
   "id": "b606a5fd",
   "metadata": {},
   "outputs": [],
   "source": []
  }
 ],
 "metadata": {
  "kernelspec": {
   "display_name": "Python 3 (ipykernel)",
   "language": "python",
   "name": "python3"
  },
  "language_info": {
   "codemirror_mode": {
    "name": "ipython",
    "version": 3
   },
   "file_extension": ".py",
   "mimetype": "text/x-python",
   "name": "python",
   "nbconvert_exporter": "python",
   "pygments_lexer": "ipython3",
   "version": "3.9.7"
  }
 },
 "nbformat": 4,
 "nbformat_minor": 5
}
