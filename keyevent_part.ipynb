{
 "cells": [
  {
   "cell_type": "code",
   "execution_count": 2,
   "id": "3ac92e89",
   "metadata": {},
   "outputs": [
    {
     "name": "stdout",
     "output_type": "stream",
     "text": [
      "Requirement already satisfied: Pillow in c:\\users\\hyunjin\\anaconda3\\lib\\site-packages (8.4.0)\n"
     ]
    }
   ],
   "source": [
    "!pip install Pillow"
   ]
  },
  {
   "cell_type": "code",
   "execution_count": 1,
   "id": "0071872e",
   "metadata": {},
   "outputs": [],
   "source": [
    "import PIL\n",
    "import numpy as np\n",
    "import cv2"
   ]
  },
  {
   "cell_type": "code",
   "execution_count": 7,
   "id": "chief-midnight",
   "metadata": {},
   "outputs": [
    {
     "name": "stdout",
     "output_type": "stream",
     "text": [
      "['./data/lena.jpg', './data/baboon.jpg', './data/fruits.jpg', './data/orange.jpg', './data/apple.jpg']\n"
     ]
    }
   ],
   "source": [
    "cnt = 5\n",
    "imageFile = []\n",
    "imageFile.append('./data/lena.jpg')\n",
    "imageFile.append('./data/baboon.jpg')\n",
    "imageFile.append('./data/fruits.jpg')\n",
    "imageFile.append('./data/orange.jpg')\n",
    "imageFile.append('./data/apple.jpg')\n",
    "print(imageFile)"
   ]
  },
  {
   "cell_type": "code",
   "execution_count": 8,
   "id": "43e0f4b6",
   "metadata": {},
   "outputs": [],
   "source": [
    "image = []\n",
    "imagegray = []\n",
    "for i in range(0, cnt):\n",
    "    image.append(cv2.imread(imageFile[i]))\n",
    "    imagegray.append(cv2.imread(imageFile[i], cv2.IMREAD_GRAYSCALE))"
   ]
  },
  {
   "cell_type": "code",
   "execution_count": 9,
   "id": "democratic-nitrogen",
   "metadata": {},
   "outputs": [
    {
     "name": "stdout",
     "output_type": "stream",
     "text": [
      "1\n",
      "2\n",
      "3\n",
      "4\n",
      "0\n",
      "1\n",
      "2\n",
      "3\n",
      "4\n",
      "0\n",
      "1\n",
      "2\n"
     ]
    }
   ],
   "source": [
    "idx = 0 #이미지 인덱스 저장 (0 - lena, 1 - baboon ,,,)\n",
    "color = 1\n",
    "\n",
    "while True:   \n",
    "    key = cv2.waitKeyEx(30)  \n",
    "    if key == 27:  #ESC\n",
    "        break  \n",
    "                \n",
    "    # 영상 변경\n",
    "    elif key == 0x250000: # left   \n",
    "        idx -= 1\n",
    "        if idx < 0: #0보다 작아지면 맨 오른쪽으로 이동\n",
    "            idx = cnt-1\n",
    "        \n",
    "    # 영상 변경\n",
    "    elif key == 0x270000: # right\n",
    "        idx += 1\n",
    "        idx %= cnt\n",
    "        \n",
    "    # 컬러/흑백 영상 변경\n",
    "    elif key == 32: # space        \n",
    "        color = 1 - color\n",
    "        \n",
    "    if color == 1:\n",
    "        cv2.imshow('img', image[idx])\n",
    "    else:\n",
    "        cv2.imshow('img', imagegray[idx])\n",
    "        \n",
    "cv2.destroyAllWindows()"
   ]
  },
  {
   "cell_type": "code",
   "execution_count": null,
   "id": "e9b3ded1",
   "metadata": {},
   "outputs": [],
   "source": []
  }
 ],
 "metadata": {
  "kernelspec": {
   "display_name": "Python 3 (ipykernel)",
   "language": "python",
   "name": "python3"
  },
  "language_info": {
   "codemirror_mode": {
    "name": "ipython",
    "version": 3
   },
   "file_extension": ".py",
   "mimetype": "text/x-python",
   "name": "python",
   "nbconvert_exporter": "python",
   "pygments_lexer": "ipython3",
   "version": "3.9.7"
  }
 },
 "nbformat": 4,
 "nbformat_minor": 5
}
