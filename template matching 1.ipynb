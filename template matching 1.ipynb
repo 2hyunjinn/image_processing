{
 "cells": [
  {
   "cell_type": "code",
   "execution_count": 1,
   "id": "1d5fd0d7",
   "metadata": {},
   "outputs": [],
   "source": [
    "import cv2\n",
    "import numpy as np\n",
    "import imutils"
   ]
  },
  {
   "cell_type": "code",
   "execution_count": 2,
   "id": "7c284c7e",
   "metadata": {},
   "outputs": [
    {
     "name": "stdout",
     "output_type": "stream",
     "text": [
      "TM_SQDIFF_NORMED: 2.598681589915941e-07 (558, 323)\n",
      "[[0.7011468  0.697535   0.6957528  ... 0.709112   0.7068629  0.6975021 ]\n",
      " [0.6853214  0.67898875 0.67859447 ... 0.6835571  0.68334275 0.67919356]\n",
      " [0.67072874 0.664797   0.6678189  ... 0.67577213 0.67726827 0.6765454 ]\n",
      " ...\n",
      " [0.6772649  0.67611897 0.67739373 ... 0.7184665  0.72168636 0.7213238 ]\n",
      " [0.6833954  0.6823485  0.68619555 ... 0.7125044  0.71701884 0.7166337 ]\n",
      " [0.6822461  0.6815959  0.68737614 ... 0.7029896  0.7066483  0.7051116 ]]\n"
     ]
    }
   ],
   "source": [
    "#템플릿 영상은 gray만!!\n",
    "src = cv2.imread('./data/circuit.bmp', cv2.IMREAD_GRAYSCALE)\n",
    "tmp = cv2.imread('./data/circuit_tmp.bmp', cv2.IMREAD_GRAYSCALE) \n",
    "dst = cv2.cvtColor(src, cv2.COLOR_GRAY2BGR) # 출력 표시 영상\n",
    "\n",
    "R1 = cv2.matchTemplate(src, tmp, cv2.TM_SQDIFF_NORMED) #템플릿 매칭 시작\n",
    "minVal, _, minLoc, _ = cv2.minMaxLoc(R1) #작을수록 유사하기 때문에 minVal 찾음\n",
    "\n",
    "print('TM_SQDIFF_NORMED:', minVal, minLoc)\n",
    "print(R1)\n",
    "\n",
    "w, h = tmp.shape[:2]\n",
    "#print(w, h)\n",
    "cv2. rectangle(dst, minLoc, (minLoc[0]+h, minLoc[1]+w), (255, 0, 0), 2)\n",
    "\n",
    "cv2.imshow('dst', dst)\n",
    "cv2.waitKey()\n",
    "cv2.destroyAllWindows()"
   ]
  },
  {
   "cell_type": "code",
   "execution_count": 3,
   "id": "8be89ff5",
   "metadata": {},
   "outputs": [
    {
     "name": "stdout",
     "output_type": "stream",
     "text": [
      "[[0.48703513 0.48458654 0.4830971  ... 0.48301956 0.4815877  0.47938353]\n",
      " [0.48256856 0.47850925 0.4774411  ... 0.4812227  0.4795934  0.47829086]\n",
      " [0.4827148  0.4790854  0.47858226 ... 0.47927296 0.47921777 0.47712758]\n",
      " ...\n",
      " [0.47922915 0.4806652  0.48073003 ... 0.4626947  0.46277082 0.46529713]\n",
      " [0.47867963 0.4801647  0.47954175 ... 0.4594709  0.46034846 0.46358985]\n",
      " [0.47710156 0.47819293 0.4763688  ... 0.4599569  0.45972398 0.46330684]]\n",
      "TM_SQDIFF_NORMED: 0.40319156646728516 (558, 323)\n"
     ]
    }
   ],
   "source": [
    "#템플릿 영상은 gray만!!\n",
    "src = cv2.imread('./data/circuit_modified.bmp', cv2.IMREAD_GRAYSCALE)\n",
    "tmp = cv2.imread('./data/circuit_tmp.bmp', cv2.IMREAD_GRAYSCALE) \n",
    "dst = cv2.cvtColor(src, cv2.COLOR_GRAY2BGR) # 출력 표시 영상\n",
    "\n",
    "R1 = cv2.matchTemplate(src, tmp, cv2.TM_SQDIFF_NORMED) #템플릿 매칭 시작\n",
    "#R1 = cv2.matchTemplate(src, tmp, cv2.TM_CCORR_NORMED)\n",
    "#R1 = cv2.matchTemplate(src, tmp, cv2.TM_CCOEFF_NORMED)\n",
    "\n",
    "minVal, maxVal, minLoc, maxLoc = cv2.minMaxLoc(R1)\n",
    "print(R1)\n",
    "print('TM_SQDIFF_NORMED:', minVal, minLoc) # 작을 수록 유사함\n",
    "#print('TM_CCORR_NORMED:', maxVal, maxLoc) # 클 수록\n",
    "#print('TM_CCOEFF_NORMED:', maxVal, maxLoc) # 클 수록\n",
    "\n",
    "y, x = minLoc[:2]\n",
    "#y, x = maxLoc[:2]\n",
    "w, h = tmp.shape[:2]\n",
    "#print(w, h)\n",
    "cv2. rectangle(dst, (y, x), (y+h, x+w), (255, 0, 0), 2)\n",
    "\n",
    "cv2.imshow('dst', dst)\n",
    "cv2.waitKey()\n",
    "cv2.destroyAllWindows()"
   ]
  },
  {
   "cell_type": "code",
   "execution_count": null,
   "id": "fd830ff8",
   "metadata": {},
   "outputs": [],
   "source": []
  }
 ],
 "metadata": {
  "kernelspec": {
   "display_name": "Python 3 (ipykernel)",
   "language": "python",
   "name": "python3"
  },
  "language_info": {
   "codemirror_mode": {
    "name": "ipython",
    "version": 3
   },
   "file_extension": ".py",
   "mimetype": "text/x-python",
   "name": "python",
   "nbconvert_exporter": "python",
   "pygments_lexer": "ipython3",
   "version": "3.9.7"
  }
 },
 "nbformat": 4,
 "nbformat_minor": 5
}
