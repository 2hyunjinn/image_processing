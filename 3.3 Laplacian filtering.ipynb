{
 "cells": [
  {
   "cell_type": "code",
   "execution_count": 1,
   "id": "7d12e714",
   "metadata": {},
   "outputs": [],
   "source": [
    "import cv2\n",
    "import numpy as np"
   ]
  },
  {
   "cell_type": "code",
   "execution_count": 2,
   "id": "e2ba4a5b",
   "metadata": {},
   "outputs": [],
   "source": [
    "#1\n",
    "src = cv2.imread('./data/lena.jpg', cv2.IMREAD_GRAYSCALE)\n",
    "blur = cv2.GaussianBlur(src, ksize =(7, 7), sigmaX = 0.0)\n",
    "\n",
    "cv2.imshow('src', src)\n",
    "cv2.imshow('blur', blur)\n",
    "cv2.waitKey()    \n",
    "cv2.destroyAllWindows()"
   ]
  },
  {
   "cell_type": "code",
   "execution_count": 3,
   "id": "a18f820b",
   "metadata": {},
   "outputs": [
    {
     "name": "stdout",
     "output_type": "stream",
     "text": [
      "lap:  -239.0 189.0 (404, 181) (221, 287)\n"
     ]
    }
   ],
   "source": [
    "#2\n",
    "lap = cv2.Laplacian(src, cv2.CV_32F)\n",
    "minVal, maxVal, minLoc, maxLoc = cv2.minMaxLoc(lap)\n",
    "print('lap: ', minVal, maxVal, minLoc, maxLoc)\n",
    "\n",
    "dst = cv2.convertScaleAbs(lap)\n",
    "dst = cv2.normalize(dst, None, 0, 255, cv2.NORM_MINMAX)\n",
    "\n",
    "cv2.imshow('lap', lap)\n",
    "cv2.imshow('dst', dst)\n",
    "cv2.waitKey()    \n",
    "cv2.destroyAllWindows()"
   ]
  },
  {
   "cell_type": "code",
   "execution_count": 4,
   "id": "bd12eb13",
   "metadata": {},
   "outputs": [
    {
     "name": "stdout",
     "output_type": "stream",
     "text": [
      "lap2:  -35.0 30.0 (180, 435) (367, 449)\n"
     ]
    }
   ],
   "source": [
    "#3\n",
    "lap2 = cv2.Laplacian(blur, cv2.CV_32F)\n",
    "minVal, maxVal, minLoc, maxLoc = cv2.minMaxLoc(lap2)\n",
    "print('lap2: ', minVal, maxVal, minLoc, maxLoc)\n",
    "\n",
    "dst2 = cv2.convertScaleAbs(lap2)\n",
    "dst2 = cv2.normalize(dst2, None, 0, 255, cv2.NORM_MINMAX)\n",
    "\n",
    "cv2.imshow('lap2', lap2)\n",
    "cv2.imshow('dst', dst)\n",
    "cv2.imshow('dst2', dst2)\n",
    "cv2.waitKey()    \n",
    "cv2.destroyAllWindows()"
   ]
  },
  {
   "cell_type": "code",
   "execution_count": null,
   "id": "8ae3b32b",
   "metadata": {},
   "outputs": [],
   "source": []
  }
 ],
 "metadata": {
  "kernelspec": {
   "display_name": "Python 3 (ipykernel)",
   "language": "python",
   "name": "python3"
  },
  "language_info": {
   "codemirror_mode": {
    "name": "ipython",
    "version": 3
   },
   "file_extension": ".py",
   "mimetype": "text/x-python",
   "name": "python",
   "nbconvert_exporter": "python",
   "pygments_lexer": "ipython3",
   "version": "3.9.7"
  }
 },
 "nbformat": 4,
 "nbformat_minor": 5
}
