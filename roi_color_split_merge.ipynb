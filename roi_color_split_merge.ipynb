{
 "cells": [
  {
   "cell_type": "code",
   "execution_count": 1,
   "id": "0b931655",
   "metadata": {},
   "outputs": [],
   "source": [
    "import cv2\n",
    "import numpy as np"
   ]
  },
  {
   "cell_type": "code",
   "execution_count": 7,
   "id": "63bbb423",
   "metadata": {},
   "outputs": [
    {
     "name": "stdout",
     "output_type": "stream",
     "text": [
      "roi = (181, 130, 295, 228)\n"
     ]
    }
   ],
   "source": [
    "src = cv2.imread('./data/lena.jpg')\n",
    "roi = cv2.selectROI(src)\n",
    "print('roi =', roi) #x, y, w, h\n",
    "\n",
    "roiimage = src[roi[1]:roi[1]+roi[3],\n",
    "           roi[0]:roi[0]+roi[2]]\n",
    "\n",
    "hsv = cv2.cvtColor(roiimage, cv2.COLOR_BGR2HSV)\n",
    "h,s,v = cv2.split(hsv)\n",
    "\n",
    "#v += 50 # 255를 넘어서 overflow 발생\n",
    "v = cv2.add(v, 50) #0~255 사이가 되도록 보장해줌\n",
    "hsv2 = cv2.merge([h, s, v])\n",
    "roidst = cv2.cvtColor(hsv2, cv2.COLOR_HSV2BGR)\n",
    "\n",
    "cv2.imshow('roi', roi)\n",
    "cv2.imshow('roidst', roidst)        \n",
    "cv2.waitKey()\n",
    "cv2.destroyAllWindows()"
   ]
  },
  {
   "cell_type": "code",
   "execution_count": null,
   "id": "dcc6b3bb",
   "metadata": {},
   "outputs": [],
   "source": []
  }
 ],
 "metadata": {
  "kernelspec": {
   "display_name": "Python 3 (ipykernel)",
   "language": "python",
   "name": "python3"
  },
  "language_info": {
   "codemirror_mode": {
    "name": "ipython",
    "version": 3
   },
   "file_extension": ".py",
   "mimetype": "text/x-python",
   "name": "python",
   "nbconvert_exporter": "python",
   "pygments_lexer": "ipython3",
   "version": "3.9.7"
  }
 },
 "nbformat": 4,
 "nbformat_minor": 5
}
