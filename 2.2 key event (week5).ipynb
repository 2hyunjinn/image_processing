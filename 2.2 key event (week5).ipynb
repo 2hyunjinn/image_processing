{
 "cells": [
  {
   "cell_type": "code",
   "execution_count": 1,
   "id": "10ad7f32",
   "metadata": {},
   "outputs": [],
   "source": [
    "import numpy as np\n",
    "import cv2"
   ]
  },
  {
   "cell_type": "code",
   "execution_count": 2,
   "id": "5352fd85",
   "metadata": {},
   "outputs": [],
   "source": [
    "width, height = 512, 512 #이미지 사이즈\n",
    "x, y, R = 256, 256, 50 #x,y좌표 / R - 반지름\n",
    "\n",
    "left = 2\n",
    "right = 0\n",
    "down = 1\n",
    "up = 3\n",
    "\n",
    "direction = right #현재 방향"
   ]
  },
  {
   "cell_type": "code",
   "execution_count": 5,
   "id": "80a3f14f",
   "metadata": {},
   "outputs": [],
   "source": [
    "while True:\n",
    "    key = cv2.waitKeyEx(30)\n",
    "    if key == 0x1B: #ESC\n",
    "        break\n",
    "    # 방향키 방향 전환\n",
    "    elif key == 0x270000: #right\n",
    "        direction = right\n",
    "    elif key == 0x280000: #down\n",
    "        direction = down\n",
    "    elif key == 0x250000: #left\n",
    "        direction = left\n",
    "    elif key == 0x260000: #up\n",
    "        direction = up\n",
    "        \n",
    "    # 방향으로 이동\n",
    "    if direction == right: #right\n",
    "        x += 10\n",
    "    elif direction == down:#down\n",
    "        y += 10\n",
    "    elif direction == left: #left\n",
    "        x -= 10\n",
    "    else: #3, up\n",
    "        y -= 10\n",
    "        \n",
    "    # 경계확인\n",
    "    if x < R:\n",
    "        x = R\n",
    "        direction = right\n",
    "    if x > width - R:\n",
    "        x = width - R\n",
    "        direction = left\n",
    "    if y < R:\n",
    "        y = R\n",
    "        direction = down\n",
    "    if y > height - R:\n",
    "        y = height - R\n",
    "        direction = up\n",
    "        \n",
    "    #지우고, 그리기\n",
    "    img = np.zeros((width, height, 3), np.uint8) + 255 #배경을 다시 그려서 원을 지운 듯한 효과를 줌\n",
    "    cv2.circle(img, (x,y), R, (0, 0, 255), -1)\n",
    "    cv2.imshow('img', img)\n",
    "    \n",
    "cv2.destroyAllWindows()"
   ]
  }
 ],
 "metadata": {
  "kernelspec": {
   "display_name": "Python 3 (ipykernel)",
   "language": "python",
   "name": "python3"
  },
  "language_info": {
   "codemirror_mode": {
    "name": "ipython",
    "version": 3
   },
   "file_extension": ".py",
   "mimetype": "text/x-python",
   "name": "python",
   "nbconvert_exporter": "python",
   "pygments_lexer": "ipython3",
   "version": "3.9.7"
  }
 },
 "nbformat": 4,
 "nbformat_minor": 5
}
