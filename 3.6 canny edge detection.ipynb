{
 "cells": [
  {
   "cell_type": "code",
   "execution_count": 2,
   "id": "386ed9ac",
   "metadata": {},
   "outputs": [],
   "source": [
    "import cv2\n",
    "import numpy as np\n",
    "import imutils"
   ]
  },
  {
   "cell_type": "code",
   "execution_count": 6,
   "id": "b60699fd",
   "metadata": {},
   "outputs": [],
   "source": [
    "src = cv2.imread('./data/lena.jpg', cv2.IMREAD_GRAYSCALE)\n",
    "\n",
    "# 캐니 엣지 추출\n",
    "edges1 = cv2.Canny(src, 50, 100) # 강한 엣지 100\n",
    "edges2 = cv2.Canny(src, 50, 200) # 강한 엣지 200\n",
    "# 강한엣지가 높을 수록 끊겨서 나옴\n",
    "\n",
    "cv2.imshow('src', src)\n",
    "cv2.imshow('edges1', edges1)\n",
    "cv2.imshow('edges2', edges2)\n",
    "cv2.waitKey()\n",
    "cv2.destroyAllWindows()"
   ]
  },
  {
   "cell_type": "code",
   "execution_count": 10,
   "id": "e3454d9b",
   "metadata": {},
   "outputs": [],
   "source": [
    "gray = cv2.imread('./data/coins.png', cv2.IMREAD_GRAYSCALE)\n",
    "blurred = cv2.GaussianBlur(gray, (5,5), 0)\n",
    "\n",
    "# 사소한 것도 약한 엣지로 걸리긴 하나 강한 엣지까지 오기가 힘듦\n",
    "wide = cv2.Canny(blurred, 10, 200)\n",
    "# 약한 엣지의 기준이 위보다 높기는 하나 강한 엣지 기준이 낮음\n",
    "mid = cv2.Canny(blurred, 30, 150)\n",
    "#뚜렷한 엣지만을 원하면! (ex-외곽선)\n",
    "tight = cv2.Canny(blurred, 240, 250) \n",
    "\n",
    "cv2.imshow('original', gray)\n",
    "cv2.imshow('Blurred', blurred)\n",
    "cv2.imshow('Wide Edge Map', wide)\n",
    "cv2.imshow('Mid Edge Map', mid)\n",
    "cv2.imshow('Tight Edge Map', tight)\n",
    "cv2.waitKey()\n",
    "cv2.destroyAllWindows()"
   ]
  },
  {
   "cell_type": "code",
   "execution_count": 11,
   "id": "bde46af3",
   "metadata": {},
   "outputs": [],
   "source": [
    "gray = cv2.imread('./data/teacup.jpg', cv2.IMREAD_GRAYSCALE)\n",
    "blurred = cv2.GaussianBlur(gray, (3, 3), 0) #캐니 호출 전 가우시안 블러를 한번 더!\n",
    "\n",
    "wide = cv2.Canny(blurred, 10, 200)\n",
    "tight = cv2.Canny(blurred, 225, 250)\n",
    "auto = imutils.auto_canny(blurred) #자동\n",
    "\n",
    "cv2.imshow('original', gray)\n",
    "cv2.imshow('Wide Edge Map', wide)\n",
    "cv2.imshow('Tight Edge Map', tight)\n",
    "cv2.imshow('Auto', auto)\n",
    "cv2.waitKey()\n",
    "cv2.destroyAllWindows()"
   ]
  },
  {
   "cell_type": "code",
   "execution_count": null,
   "id": "edcb4b3b",
   "metadata": {},
   "outputs": [],
   "source": []
  }
 ],
 "metadata": {
  "kernelspec": {
   "display_name": "Python 3 (ipykernel)",
   "language": "python",
   "name": "python3"
  },
  "language_info": {
   "codemirror_mode": {
    "name": "ipython",
    "version": 3
   },
   "file_extension": ".py",
   "mimetype": "text/x-python",
   "name": "python",
   "nbconvert_exporter": "python",
   "pygments_lexer": "ipython3",
   "version": "3.9.7"
  }
 },
 "nbformat": 4,
 "nbformat_minor": 5
}
