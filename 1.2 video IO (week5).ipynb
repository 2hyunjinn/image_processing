{
 "cells": [
  {
   "cell_type": "markdown",
   "id": "1ff216f5",
   "metadata": {},
   "source": [
    "# 1.video input and display - file"
   ]
  },
  {
   "cell_type": "code",
   "execution_count": 1,
   "id": "d8a3b08c",
   "metadata": {},
   "outputs": [
    {
     "name": "stdout",
     "output_type": "stream",
     "text": [
      "frame_size = (768, 576)\n"
     ]
    }
   ],
   "source": [
    "import cv2\n",
    "\n",
    "##cap = cv2.VideoCapture(0) #0번 카메라 - pc에 설치된 카메라로 실시간 입력받기\n",
    "cap = cv2.VideoCapture('./data/vtest.avi') #이미지 - imread / 영상 - videoCapture\n",
    "\n",
    "#프레임 사이즈 - 동영상의 크기 width, height\n",
    "frame_size = (int(cap.get(cv2.CAP_PROP_FRAME_WIDTH)), \n",
    "              int(cap.get(cv2.CAP_PROP_FRAME_HEIGHT)))\n",
    "print('frame_size =',frame_size)\n",
    "\n",
    "\n",
    "while True: #무한루프\n",
    "    retval, frame = cap.read() #이미지 프레임을 하나씩 캡쳐\n",
    "    if not retval: #제대로 안읽혔으면\n",
    "        break #탈출해라\n",
    "        \n",
    "    cv2.imshow('frame',frame) #동영상이 읽힘\n",
    "    \n",
    "    key = cv2.waitKey(25) #25초동안 기다렸다가\n",
    "    if key==27: #Esc 누르면 빠져나가라\n",
    "        break\n",
    "        \n",
    "if cap.isOpened():\n",
    "    cap.release()\n",
    "    \n",
    "cv2.destroyAllWindows()"
   ]
  },
  {
   "cell_type": "markdown",
   "id": "e5f5331f",
   "metadata": {},
   "source": [
    "# 2.video input and display - youtube"
   ]
  },
  {
   "cell_type": "code",
   "execution_count": 2,
   "id": "6f614dc2",
   "metadata": {},
   "outputs": [
    {
     "name": "stdout",
     "output_type": "stream",
     "text": [
      "title =  [CJ UNIT 4기 브이로그] 일타강사 홍수민님 알려주는 'SW창의캠프 필승 전략!'\n",
      "video.rating =  None\n",
      "video.duration =  00:04:05\n",
      "normal:mp4@1280x720\n",
      "best.resolution 1280x720\n"
     ]
    }
   ],
   "source": [
    "import cv2\n",
    "import pafy\n",
    "\n",
    "url = \"https://www.youtube.com/watch?v=mQEUPCXMl3k\"\n",
    "\n",
    "video = pafy.new(url)\n",
    "print('title = ', video.title)\n",
    "print('video.rating = ', video.rating)\n",
    "print('video.duration = ', video.duration)\n",
    "\n",
    "#Selects the stream with the highest resolution\n",
    "best = video.getbest(preftype='mp4') #mp4, 3gp\n",
    "print(best)\n",
    "print('best.resolution', best.resolution)\n",
    "\n",
    "cap=cv2.VideoCapture(best.url)\n",
    "\n",
    "while(True):\n",
    "    retval, frame = cap.read()\n",
    "    if not retval:\n",
    "        break\n",
    "    cv2.imshow('frame', frame)\n",
    "    \n",
    "    gray = cv2.cvtColor(frame, cv2.COLOR_BGR2GRAY)\n",
    "    edges = cv2.Canny(gray, 100, 200)\n",
    "    cv2.imshow('edges', edges)\n",
    "    \n",
    "    key = cv2.waitKey(25)\n",
    "    if key == 27: #ESC\n",
    "        break\n",
    "        \n",
    "cv2.destroyAllWindows()"
   ]
  },
  {
   "cell_type": "code",
   "execution_count": null,
   "id": "8a8406c6",
   "metadata": {},
   "outputs": [],
   "source": []
  }
 ],
 "metadata": {
  "kernelspec": {
   "display_name": "Python 3 (ipykernel)",
   "language": "python",
   "name": "python3"
  },
  "language_info": {
   "codemirror_mode": {
    "name": "ipython",
    "version": 3
   },
   "file_extension": ".py",
   "mimetype": "text/x-python",
   "name": "python",
   "nbconvert_exporter": "python",
   "pygments_lexer": "ipython3",
   "version": "3.9.7"
  }
 },
 "nbformat": 4,
 "nbformat_minor": 5
}
