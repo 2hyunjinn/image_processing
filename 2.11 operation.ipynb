{
 "cells": [
  {
   "cell_type": "code",
   "execution_count": 10,
   "id": "34d91614",
   "metadata": {},
   "outputs": [],
   "source": [
    "import cv2\n",
    "import numpy as np"
   ]
  },
  {
   "cell_type": "code",
   "execution_count": 12,
   "id": "ba5b0889",
   "metadata": {},
   "outputs": [],
   "source": [
    "src1 = cv2.imread('./data/lena.jpg', cv2.IMREAD_GRAYSCALE)\n",
    "src2 = np.zeros(shape=(512,512), dtype=np.uint8) + 100\n",
    "\n",
    "dst1 = src1 + src2 # src1 + 100이랑 같은 말\n",
    "dst2 = cv2.add(src1, src2) # overflow 방지\n",
    "#dst2 = cv2.add(src1, src2, dtype = cv2.CV_8U)\n",
    "\n",
    "cv2.imshow('dst1', dst1)\n",
    "cv2.imshow('dst2', dst2)\n",
    "cv2.waitKey()\n",
    "cv2.destroyAllWindows()"
   ]
  },
  {
   "cell_type": "code",
   "execution_count": 13,
   "id": "d00e6ef1",
   "metadata": {},
   "outputs": [],
   "source": [
    "src1 = cv2.imread('./data/lena.jpg')\n",
    "src2 = cv2.imread('./data/baboon.jpg')\n",
    "\n",
    "# 두 개의 영상을 섞음\n",
    "alpha = 0.3\n",
    "beta = 1- alpha\n",
    "gamma = 0\n",
    "dst = cv2.addWeighted(src1, alpha, src2, beta, gamma)\n",
    "\n",
    "dst = cv2.addWeighted(src1, 0.2, src2, 0.8, 0)\n",
    "cv2.imshow('dst', dst)\n",
    "cv2.waitKey()\n",
    "cv2.destroyAllWindows()"
   ]
  },
  {
   "cell_type": "code",
   "execution_count": 14,
   "id": "828dc6f6",
   "metadata": {},
   "outputs": [],
   "source": [
    "src2 = cv2.imread('./data/opencv_logo.png')\n",
    "cv2.imshow('src2', src2)\n",
    "cv2.waitKey()\n",
    "cv2.destroyAllWindows()"
   ]
  },
  {
   "cell_type": "code",
   "execution_count": 16,
   "id": "754eca06",
   "metadata": {},
   "outputs": [],
   "source": [
    "#src2의 로고만 src1에 붙이기\n",
    "\n",
    "src1 = cv2.imread('./data/lena.jpg')\n",
    "src2 = cv2.imread('./data/opencv_logo.png')\n",
    "\n",
    "# src2의 크기를 가져옴\n",
    "rows, cols, channels = src2.shape\n",
    "roi = src1[0:rows, 0:cols] #레나영상에서 로고 크기만큼을 가져옴\n",
    "\n",
    "# 1. 로고를 gray영상으로 바꿈\n",
    "gray = cv2.cvtColor(src2, cv2.COLOR_BGR2GRAY) \n",
    "\n",
    "# 2. 이진화 영상(0 or 1)으로 바꿈 - 바탕은 흰색, mask에는 logo만 까만색으로 저장됨\n",
    "ret, mask = cv2.threshold(gray, 160, 255, cv2.THRESH_BINARY)\n",
    "\n",
    "# 3. inverse - 바탕은 까만색, logo만 흰색\n",
    "mask_inv = cv2.bitwise_not(mask)\n",
    "\n",
    "# 4. mask가 0이 아닌 부분만 and - logo만 까맣게 됨\n",
    "src1_bg = cv2.bitwise_and(roi, roi, mask = mask)\n",
    "\n",
    "# 5. 배경만 까맣게 됨\n",
    "src2_bg = cv2.bitwise_and(src2, src2, mask = mask_inv)\n",
    "\n",
    "# 6. or 연산을 통해 로고만 남기고 배경 버림 \n",
    "dst = cv2.bitwise_or(src1_bg, src2_bg)\n",
    "\n",
    "cv2.imshow('gray', gray)\n",
    "cv2.imshow('mask', mask)\n",
    "cv2.imshow('mask_inv', mask_inv)\n",
    "cv2.imshow('src1_bg', src1_bg)\n",
    "cv2.imshow('src2_bg', src2_bg)\n",
    "cv2.imshow('dst', dst)\n",
    "\n",
    "cv2.waitKey()\n",
    "cv2.destroyAllWindows()"
   ]
  },
  {
   "cell_type": "code",
   "execution_count": 18,
   "id": "9aee7213",
   "metadata": {},
   "outputs": [
    {
     "name": "stdout",
     "output_type": "stream",
     "text": [
      "n =  0\n"
     ]
    }
   ],
   "source": [
    "src1 = cv2.imread('./data/lena.jpg', cv2.IMREAD_GRAYSCALE)\n",
    "src2 = np.zeros(shape=(512,512), dtype=np.uint8) + 255\n",
    "\n",
    "dst1 = 255 - src1 #inverse\n",
    "dst2 = cv2.subtract(src2, src1)\n",
    "dst3 = cv2.compare(dst1, dst2, cv2.CMP_NE) # cv2.CMP_EQ = 512X512 / cv2.CMP_NE = 0\n",
    "n    = cv2.countNonZero(dst3)\n",
    "print('n = ', n)\n",
    "\n",
    "cv2.imshow('src1', src1)\n",
    "cv2.imshow('dst1', dst1)\n",
    "cv2.imshow('dst2', dst2)\n",
    "cv2.imshow('dst3', dst3) #같지 않은게 몇 개나 되는지 출력\n",
    "\n",
    "cv2.waitKey()\n",
    "cv2.destroyAllWindows()"
   ]
  },
  {
   "cell_type": "code",
   "execution_count": null,
   "id": "d4665211",
   "metadata": {},
   "outputs": [],
   "source": []
  }
 ],
 "metadata": {
  "kernelspec": {
   "display_name": "Python 3 (ipykernel)",
   "language": "python",
   "name": "python3"
  },
  "language_info": {
   "codemirror_mode": {
    "name": "ipython",
    "version": 3
   },
   "file_extension": ".py",
   "mimetype": "text/x-python",
   "name": "python",
   "nbconvert_exporter": "python",
   "pygments_lexer": "ipython3",
   "version": "3.9.7"
  }
 },
 "nbformat": 4,
 "nbformat_minor": 5
}
