{
 "cells": [
  {
   "cell_type": "code",
   "execution_count": 1,
   "metadata": {},
   "outputs": [],
   "source": [
    "import cv2\n",
    "import numpy as np"
   ]
  },
  {
   "cell_type": "code",
   "execution_count": 7,
   "metadata": {},
   "outputs": [
    {
     "name": "stdout",
     "output_type": "stream",
     "text": [
      "threshold= 119.0\n"
     ]
    }
   ],
   "source": [
    "#0. 색상 정보를 모르는 영상 부름\n",
    "src = cv2.imread('./data/cup.jpg')\n",
    "\n",
    "#1. 컬러 영상을 gray로 바꿈 -> hsv로 변환\n",
    "hsv = cv2.cvtColor(src, cv2.COLOR_BGR2HSV) \n",
    "\n",
    "#2. s(채도)를 이용하여 무채색을 찾아냄 (-> 그게 배경)\n",
    "h, s, v = cv2.split(hsv)\n",
    "\n",
    "#3. 오츠를 사용해서 threshold를 구하여 적용\n",
    "ret, binimg = cv2.threshold(s, 0, 255, cv2.THRESH_BINARY+cv2.THRESH_OTSU)\n",
    "print(f'threshold= {ret}')\n",
    "\n",
    "cv2.imshow('src', src)\n",
    "#cv2.imshow('h', h)\n",
    "#cv2.imshow('s', s)\n",
    "#cv2.imshow('v', v)\n",
    "cv2.imshow('binary image', binimg)\n",
    "cv2.waitKey()\n",
    "cv2.destroyAllWindows()"
   ]
  },
  {
   "cell_type": "code",
   "execution_count": 5,
   "metadata": {},
   "outputs": [],
   "source": [
    "kernel = cv2.getStructuringElement(shape=cv2.MORPH_RECT, ksize = (3,3))\n",
    "\n",
    "#close 연산\n",
    "dilate = cv2.dilate(binimg, kernel, iterations = 2)\n",
    "erode = cv2.erode(dilate, kernel, iterations = 2)\n",
    "\n",
    "cv2.imshow('binary image', binimg) # threshold만 적용했을 때\n",
    "cv2.imshow('final mask', erode) # 침식 -> 팽창\n",
    "cv2.waitKey()\n",
    "cv2.destroyAllWindows()"
   ]
  },
  {
   "cell_type": "code",
   "execution_count": null,
   "metadata": {},
   "outputs": [],
   "source": []
  }
 ],
 "metadata": {
  "kernelspec": {
   "display_name": "Python 3 (ipykernel)",
   "language": "python",
   "name": "python3"
  },
  "language_info": {
   "codemirror_mode": {
    "name": "ipython",
    "version": 3
   },
   "file_extension": ".py",
   "mimetype": "text/x-python",
   "name": "python",
   "nbconvert_exporter": "python",
   "pygments_lexer": "ipython3",
   "version": "3.9.7"
  }
 },
 "nbformat": 4,
 "nbformat_minor": 4
}
