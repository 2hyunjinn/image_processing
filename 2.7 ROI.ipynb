{
 "cells": [
  {
   "cell_type": "code",
   "execution_count": 2,
   "id": "409243ff",
   "metadata": {},
   "outputs": [],
   "source": [
    "import cv2\n",
    "import numpy as np"
   ]
  },
  {
   "cell_type": "code",
   "execution_count": 3,
   "id": "1d13f683",
   "metadata": {},
   "outputs": [
    {
     "name": "stdout",
     "output_type": "stream",
     "text": [
      "512 512\n",
      "256 256\n"
     ]
    }
   ],
   "source": [
    "img = cv2.imread('./data/lena.jpg', cv2.IMREAD_GRAYSCALE)\n",
    "\n",
    "(h, w) = img.shape\n",
    "print(h, w)\n",
    "\n",
    "(cx, cy) = (h//2, w//2)\n",
    "print(cy, cx)\n",
    "\n",
    "roi = img[0:cy, 0:cx]\n",
    "\n",
    "cv2.imshow('img', img)\n",
    "cv2.imshow('ROI', roi)\n",
    "cv2.waitKey()\n",
    "cv2.destroyAllWindows()"
   ]
  },
  {
   "cell_type": "code",
   "execution_count": 4,
   "id": "616a1bdc",
   "metadata": {},
   "outputs": [],
   "source": [
    "#모자이크 영상 만들기\n",
    "src = cv2.imread('./data/lena.jpg', cv2.IMREAD_GRAYSCALE)\n",
    "dst = np.zeros(src.shape, dtype=src.dtype)\n",
    "\n",
    "N = 64\n",
    "height, width = src.shape # 그레이스케일 영상\n",
    "h = height // N\n",
    "w = width // N\n",
    "for i in range(N):\n",
    "    for j in range(N):\n",
    "        y = i*h\n",
    "        x = j*w\n",
    "        roi = src[y:y+h, x:x+w]\n",
    "        val = cv2.mean(roi) #mean - roi영역의 mean값 반환\n",
    "        #print(val)\n",
    "        dst[y:y+h, x:x+w] = val[0] # 그레이스케일 영상\n",
    "        \n",
    "cv2.imshow('dst', dst)        \n",
    "cv2.waitKey()\n",
    "cv2.destroyAllWindows()"
   ]
  },
  {
   "cell_type": "code",
   "execution_count": 11,
   "id": "17006813",
   "metadata": {},
   "outputs": [
    {
     "name": "stdout",
     "output_type": "stream",
     "text": [
      "roi = (172, 147, 293, 255)\n"
     ]
    }
   ],
   "source": [
    "src = cv2.imread('./data/lena.jpg', cv2.IMREAD_GRAYSCALE)\n",
    "roi = cv2.selectROI(src)\n",
    "print('roi =', roi) #x, y, w, h\n",
    "\n",
    "image = src[roi[1]:roi[1]+roi[3],\n",
    "           roi[0]:roi[0]+roi[2]]\n",
    "\n",
    "cv2.imshow('img', image)        \n",
    "cv2.waitKey()\n",
    "cv2.destroyAllWindows()"
   ]
  },
  {
   "cell_type": "code",
   "execution_count": 9,
   "id": "ccba9d3b",
   "metadata": {},
   "outputs": [
    {
     "name": "stdout",
     "output_type": "stream",
     "text": [
      "rect = [[177 131 246 220]\n",
      " [152 145 288 344]]\n"
     ]
    }
   ],
   "source": [
    "src = cv2.imread('./data/lena.jpg', cv2.IMREAD_GRAYSCALE)\n",
    "rects = cv2.selectROIs('src', src, False, False)\n",
    "print('rect =', rects)\n",
    "\n",
    "for r in rects:\n",
    "    cv2.rectangle(src, (r[0], r[1]), (r[0]+r[2], r[1]+r[3]), 255)\n",
    "\n",
    "cv2.imshow('src', src)        \n",
    "cv2.waitKey()\n",
    "cv2.destroyAllWindows()"
   ]
  },
  {
   "cell_type": "code",
   "execution_count": null,
   "id": "916b01f1",
   "metadata": {},
   "outputs": [],
   "source": []
  }
 ],
 "metadata": {
  "kernelspec": {
   "display_name": "Python 3 (ipykernel)",
   "language": "python",
   "name": "python3"
  },
  "language_info": {
   "codemirror_mode": {
    "name": "ipython",
    "version": 3
   },
   "file_extension": ".py",
   "mimetype": "text/x-python",
   "name": "python",
   "nbconvert_exporter": "python",
   "pygments_lexer": "ipython3",
   "version": "3.9.7"
  }
 },
 "nbformat": 4,
 "nbformat_minor": 5
}
