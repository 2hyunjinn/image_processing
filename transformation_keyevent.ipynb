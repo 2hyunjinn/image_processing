{
 "cells": [
  {
   "cell_type": "code",
   "execution_count": 2,
   "metadata": {},
   "outputs": [],
   "source": [
    "import cv2\n",
    "import numpy as np\n",
    "import imutils"
   ]
  },
  {
   "cell_type": "code",
   "execution_count": 3,
   "metadata": {},
   "outputs": [
    {
     "name": "stdout",
     "output_type": "stream",
     "text": [
      "(512, 512, 3)\n"
     ]
    }
   ],
   "source": [
    "src = cv2.imread('./data/lena.jpg')\n",
    "rows, cols, channels = src.shape\n",
    "print(src.shape)\n",
    "\n",
    "cv2.imshow('src', src)\n",
    "cv2.waitKey()    \n",
    "cv2.destroyAllWindows()"
   ]
  },
  {
   "cell_type": "code",
   "execution_count": 4,
   "metadata": {},
   "outputs": [],
   "source": [
    "#TODO: 변수 선언\n",
    "degree = 0 # angle을 저장\n",
    "scale = 1.0 \n",
    "\n",
    "# 현재 이미지의 크기\n",
    "w = cols \n",
    "h = rows\n",
    "\n",
    "while True:   \n",
    "    key = cv2.waitKeyEx(30)\n",
    "    #TODO: 키 입력 별 처리\n",
    "    \n",
    "    if key == 27:  #ESC\n",
    "        break\n",
    "                \n",
    "    elif key == 0x250000: # left\n",
    "        degree += 10\n",
    "                \n",
    "    elif key == 0x270000: # right\n",
    "        degree -= 10\n",
    "        \n",
    "    elif key == 0x280000: # down\n",
    "        scale -= .05\n",
    "        \n",
    "    elif key == 0x260000: # up\n",
    "        scale += .05\n",
    "    \n",
    "    #TODO: 변환 처리 및 이미지 출력\n",
    "    w = int(cols*scale)\n",
    "    h = int(rows*scale)\n",
    "    scaleimg = imutils.resize(src, width=w, height=h)\n",
    "    rotimg = imutils.rotate(scaleimg, angle=degree, center=(h/2, w/2))\n",
    "    cv2.imshow('rotimg', rotimg)\n",
    "\n",
    "cv2.destroyAllWindows()"
   ]
  },
  {
   "cell_type": "code",
   "execution_count": null,
   "metadata": {},
   "outputs": [],
   "source": []
  }
 ],
 "metadata": {
  "kernelspec": {
   "display_name": "Python 3 (ipykernel)",
   "language": "python",
   "name": "python3"
  },
  "language_info": {
   "codemirror_mode": {
    "name": "ipython",
    "version": 3
   },
   "file_extension": ".py",
   "mimetype": "text/x-python",
   "name": "python",
   "nbconvert_exporter": "python",
   "pygments_lexer": "ipython3",
   "version": "3.9.7"
  }
 },
 "nbformat": 4,
 "nbformat_minor": 4
}
