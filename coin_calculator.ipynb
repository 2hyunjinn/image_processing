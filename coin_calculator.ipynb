{
 "cells": [
  {
   "cell_type": "code",
   "execution_count": 3,
   "metadata": {},
   "outputs": [],
   "source": [
    "import cv2\n",
    "import numpy as np"
   ]
  },
  {
   "cell_type": "code",
   "execution_count": 7,
   "metadata": {},
   "outputs": [
    {
     "name": "stdout",
     "output_type": "stream",
     "text": [
      "circles.shape= (1, 14, 3)\n",
      "Total =  2370\n"
     ]
    }
   ],
   "source": [
    "img = cv2.imread('./data/coin_demo2.jpg')\n",
    "gray = cv2.cvtColor(img, cv2.COLOR_BGR2GRAY)\n",
    "\n",
    "# 각 코인의 갯수\n",
    "coin500 = 0\n",
    "coin100 = 0\n",
    "coin10 = 0\n",
    "\n",
    "# r500보다 크면 500원, r100과 r500 사이이면 100원 r100보다 작으면 10원\n",
    "r500 = 50\n",
    "r100 = 40\n",
    "\n",
    "# noise reduction\n",
    "blur = cv2.GaussianBlur(gray, (3,3), 0) #노이즈 제거\n",
    "\n",
    "# circles = cv2.HoughCircles(blur, cv2.HOUGH_GRADIENT, 1, 30, None, 200)\n",
    "circles = cv2.HoughCircles(blur, cv2.HOUGH_GRADIENT, 1.5, minDist = 30, \n",
    "                           param1 = 200, maxRadius = 200)\n",
    "\n",
    "if circles is not None:\n",
    "    print('circles.shape=', circles.shape)\n",
    "    circles = np.uint16(np.around(circles))\n",
    "    for circle in circles[0,:]: # 동전찾기\n",
    "        cx, cy, r = circle\n",
    "        if r>=r500:\n",
    "            cv2.circle(img, (cx, cy), r, (0,255,0), 2)\n",
    "            coin500 += 1\n",
    "        elif r>=r100 and r <r500:\n",
    "            cv2.circle(img, (cx, cy), r, (25,255,0), 2)\n",
    "            coin100 += 1\n",
    "        elif r < r100:\n",
    "            cv2.circle(img, (cx, cy), r, (0,255,255), 2)\n",
    "            coin10 += 1\n",
    "            \n",
    "        cv2.circle(img, (cx, cy), r, (0,0,255), 2)    \n",
    "        \n",
    "\n",
    "# 결과 출력\n",
    "print(\"Total = \", coin500*500 + coin100*100 + coin10*10)\n",
    "cv2.imshow('hough circle', img)\n",
    "cv2.waitKey(0)\n",
    "cv2.destroyAllWindows()"
   ]
  },
  {
   "cell_type": "code",
   "execution_count": null,
   "metadata": {},
   "outputs": [],
   "source": []
  }
 ],
 "metadata": {
  "kernelspec": {
   "display_name": "Python 3 (ipykernel)",
   "language": "python",
   "name": "python3"
  },
  "language_info": {
   "codemirror_mode": {
    "name": "ipython",
    "version": 3
   },
   "file_extension": ".py",
   "mimetype": "text/x-python",
   "name": "python",
   "nbconvert_exporter": "python",
   "pygments_lexer": "ipython3",
   "version": "3.9.7"
  }
 },
 "nbformat": 4,
 "nbformat_minor": 4
}
