{
 "cells": [
  {
   "cell_type": "markdown",
   "id": "660b2e8d",
   "metadata": {},
   "source": [
    "# 1. line, rectangle drawing"
   ]
  },
  {
   "cell_type": "code",
   "execution_count": 1,
   "id": "624495f5",
   "metadata": {},
   "outputs": [],
   "source": [
    "import cv2\n",
    "import numpy as np\n",
    "\n",
    "#512 X 512 영상, 채널은 3개(COLOR값을 주려고)\n",
    "#White 배경 생성 - 원래는 0인 배경을 255로 채움 (=white)\n",
    "img = np.zeros(shape=(512,512,3), dtype=np.uint8) + 255\n",
    "#img = np.ones((512,512,3), np.uint8) * 255\n",
    "#img = np.ones((512,512,3), (255,255,255), dtype=np.uint8) * 255\n",
    "#img = np.ones((512,512,3), np.uint8) #Black 배경\n",
    "\n",
    "pt1 = 100, 100 #LT\n",
    "pt2 = 400, 400 #RB\n",
    "cv2.rectangle(img, pt1, pt2, (0, 255, 0), 2)\n",
    "\n",
    "#시작점 : (0,0) - 끝나는 점 : (500,0)을 잇는 선을 그림\n",
    "cv2.line(img, (0,0), (500,0), (255,0,0), 5)\n",
    "cv2.line(img, (0,0), (0,500), (0,0,255), 5)\n",
    "\n",
    "cv2.imshow('img', img)\n",
    "cv2.waitKey()\n",
    "cv2.destroyAllWindows()"
   ]
  },
  {
   "cell_type": "markdown",
   "id": "7fa80029",
   "metadata": {},
   "source": [
    "# 2. cross point"
   ]
  },
  {
   "cell_type": "code",
   "execution_count": 2,
   "id": "1a77f2ce",
   "metadata": {},
   "outputs": [],
   "source": [
    "img = np.zeros(shape=(512, 512, 3), dtype=np.uint8) + 255\n",
    "\n",
    "x1, x2 = 100, 400\n",
    "y1, y2 = 100, 400\n",
    "cv2.rectangle(img, (x1, y1), (x2, y2), (0,0,255))\n",
    "\n",
    "pt1 = 120, 50\n",
    "pt2 = 300, 500\n",
    "cv2.line(img, pt1, pt2, (255,0,0), 2)\n",
    "\n",
    "#사각형의 범위 저장\n",
    "imgRect = (x1, y1, x2-x1, y2-y1) #x, y, width, height\n",
    "\n",
    "#clipLine은 imgRect를 사각형으로 인식\n",
    "#imgRect와 pt1, pt2의 교차점 찾기\n",
    "retval, rpt1, rpt2 = cv2.clipLine(imgRect, pt1, pt2)\n",
    "if retval:#교점이 있다면\n",
    "    cv2.circle(img,rpt1, radius=5, color=(0, 255, 0), thickness=-1)\n",
    "    cv2.circle(img,rpt2, radius=5, color=(0, 255, 0), thickness=-1)\n",
    "    \n",
    "cv2.imshow('img',img)\n",
    "cv2.waitKey()\n",
    "cv2.destroyAllWindows()"
   ]
  },
  {
   "cell_type": "markdown",
   "id": "c7b9e724",
   "metadata": {},
   "source": [
    "# 3.circle drawing"
   ]
  },
  {
   "cell_type": "code",
   "execution_count": 3,
   "id": "87955376",
   "metadata": {},
   "outputs": [],
   "source": [
    "img = np.zeros(shape=(512, 512, 3), dtype=np.uint8) + 255\n",
    "#center의 좌표\n",
    "cx = img.shape[0] // 2\n",
    "cy = img.shape[1] // 2\n",
    "\n",
    "for r in range(200, 0, -100):\n",
    "    cv2.circle(img, (cx, cy), r, color = (255,0,0))\n",
    "    \n",
    "cv2.circle(img, (cx, cy), radius=50, color = (0,0,255), thickness = -1)\n",
    "\n",
    "cv2.imshow('img', img)\n",
    "cv2.waitKey()\n",
    "cv2.destroyAllWindows()"
   ]
  },
  {
   "cell_type": "markdown",
   "id": "ad0f02a0",
   "metadata": {},
   "source": [
    "# 4. ellipse drawing"
   ]
  },
  {
   "cell_type": "code",
   "execution_count": 4,
   "id": "6cc7e45c",
   "metadata": {},
   "outputs": [],
   "source": [
    "img = np.zeros(shape=(512, 512, 3), dtype=np.uint8) + 255\n",
    "ptCenter = img.shape[0] // 2, img.shape[1] // 2\n",
    "size = 200, 100 #사각형 사이즈\n",
    "\n",
    "#ellipse 그리기 방법 1\n",
    "cv2.ellipse(img, ptCenter, size, 0, 0, 360, (255,0,0))\n",
    "cv2.ellipse(img, ptCenter, size, 45, 0, 360, (0, 0, 255))\n",
    "\n",
    "#ellipse 그리기 방법 2\n",
    "box = (ptCenter, size, 0)\n",
    "cv2.ellipse(img, box, (255, 0, 0), 5)\n",
    "box = (ptCenter, size, 45)\n",
    "cv2.ellipse(img, box, (0, 0, 255),5)\n",
    "\n",
    "cv2.imshow('img', img)\n",
    "cv2.waitKey()\n",
    "cv2.destroyAllWindows()"
   ]
  },
  {
   "cell_type": "markdown",
   "id": "2d5842dc",
   "metadata": {},
   "source": [
    "# 5. polyline drawing - 1"
   ]
  },
  {
   "cell_type": "code",
   "execution_count": 5,
   "id": "144a5c6d",
   "metadata": {},
   "outputs": [],
   "source": [
    "img = np.zeros(shape=(512, 512, 3), dtype=np.uint8) + 255\n",
    "\n",
    "pts1 = np.array([[100, 100], [200, 100], [200, 200], [100, 200]])\n",
    "pts2 = np.array([[300, 200], [400, 100], [400, 200]])\n",
    "\n",
    "cv2.polylines(img, [pts1, pts2], isClosed = True, color = (255, 0, 0))\n",
    "\n",
    "cv2.imshow('img', img)\n",
    "cv2.waitKey()\n",
    "cv2.destroyAllWindows()"
   ]
  },
  {
   "cell_type": "markdown",
   "id": "c57103ac",
   "metadata": {},
   "source": [
    "# 6. polyline drawing - 2"
   ]
  },
  {
   "cell_type": "code",
   "execution_count": 10,
   "id": "55eede34",
   "metadata": {},
   "outputs": [],
   "source": [
    "img = np.zeros(shape=(512, 512, 3), dtype=np.uint8) + 255\n",
    "\n",
    "ptCenter = img.shape[0] // 2, img.shape[1] // 2\n",
    "size = 200, 100\n",
    "\n",
    "cv2.ellipse(img, ptCenter, size, 0, 0, 360, (255,0,0))\n",
    "pts1 = cv2.ellipse2Poly(ptCenter, size, 0, 0, 360, delta=30)\n",
    "\n",
    "cv2.ellipse(img, ptCenter, size, 45, 0, 360, (255, 0, 0))\n",
    "pts2 = cv2.ellipse2Poly(ptCenter, size, 45, 0, 360, delta=30)\n",
    "\n",
    "cv2.polylines(img, [pts1, pts2], isClosed = True, color = (0, 0, 255))\n",
    "\n",
    "cv2.imshow('img', img)\n",
    "cv2.waitKey()\n",
    "cv2.destroyAllWindows()"
   ]
  },
  {
   "cell_type": "markdown",
   "id": "b246a6e3",
   "metadata": {},
   "source": [
    "# 7. rotated rectangle"
   ]
  },
  {
   "cell_type": "code",
   "execution_count": 11,
   "id": "42063d86",
   "metadata": {},
   "outputs": [],
   "source": [
    "img = np.zeros(shape=(512, 512, 3), dtype=np.uint8) + 255\n",
    "\n",
    "x, y = 256, 256\n",
    "size = 200\n",
    "\n",
    "\n",
    "for angle in range(0, 90, 10):\n",
    "    rect = ((256,256), (size, size), angle)\n",
    "    box = cv2.boxPoints(rect).astype(np.int32)\n",
    "    r = np.random.randint(256)\n",
    "    g = np.random.randint(256)\n",
    "    b = np.random.randint(256)\n",
    "    cv2.polylines(img, [box], True, (r,g,b), 2)\n",
    "    \n",
    "cv2.imshow('img', img)\n",
    "cv2.waitKey()\n",
    "cv2.destroyAllWindows()"
   ]
  },
  {
   "cell_type": "markdown",
   "id": "ea099c37",
   "metadata": {},
   "source": [
    "# 8. polygon drawing - 1"
   ]
  },
  {
   "cell_type": "code",
   "execution_count": 12,
   "id": "737fe361",
   "metadata": {},
   "outputs": [],
   "source": [
    "img = np.zeros(shape=(512, 512, 3), dtype=np.uint8) + 255\n",
    "\n",
    "pts1 = np.array([[100, 100], [200, 100], [200, 200], [100, 200]])\n",
    "pts2 = np.array([[300, 200], [400, 100], [400, 200]])\n",
    "\n",
    "cv2.fillConvexPoly(img, pts1, color=(255,0,0))\n",
    "cv2.fillPoly(img, [pts2], color=(0,0,255))\n",
    "#cv2.fillPoly(img, [pts1, pts2], color=(0,0,255))\n",
    "\n",
    "cv2.imshow('img', img)\n",
    "cv2.waitKey()\n",
    "cv2.destroyAllWindows()"
   ]
  },
  {
   "cell_type": "markdown",
   "id": "ea4b8742",
   "metadata": {},
   "source": [
    "# 9. polygon drawing - 2"
   ]
  },
  {
   "cell_type": "code",
   "execution_count": 13,
   "id": "221696d4",
   "metadata": {},
   "outputs": [],
   "source": [
    "b = (255, 0, 0)\n",
    "g = (0, 255, 0)\n",
    "r = (0, 0, 255)\n",
    "w = (255, 255, 255)\n",
    "\n",
    "img1 = np.zeros((400, 400, 3), np.uint8)\n",
    "img2 = np.zeros((400, 400, 3), np.uint8)\n",
    "pt1 = np.array([[100, 100], [270, 110], [300, 330], [170, 170], [150, 250]], np.int32)\n",
    "\n",
    "cv2.fillConvexPoly(img1, pt1, g)\n",
    "cv2.fillPoly(img2, [pt1], r)\n",
    "\n",
    "cv2.imshow('convex', img1)\n",
    "cv2.imshow('poly', img2)\n",
    "\n",
    "cv2.waitKey()\n",
    "cv2.destroyAllWindows()"
   ]
  },
  {
   "cell_type": "markdown",
   "id": "742be5db",
   "metadata": {},
   "source": [
    "# 10. textout"
   ]
  },
  {
   "cell_type": "code",
   "execution_count": 15,
   "id": "d0712331",
   "metadata": {},
   "outputs": [],
   "source": [
    "img = np.zeros(shape=(512, 512, 3), dtype=np.uint8) + 255\n",
    "text = 'OpenCV Programming'\n",
    "org = (50, 100)\n",
    "font = cv2.FONT_HERSHEY_SIMPLEX\n",
    "cv2.putText(img, text, org, font, 1, (255,0,0), 2)\n",
    "\n",
    "size, baseLine = cv2.getTextSize(text, font, 1, 2)\n",
    "#print('size=', size)\n",
    "#print('baseLine=', baseLine)\n",
    "\n",
    "cv2.rectangle(img, org, (org[0]+size[0], org[1]-size[1]), (0, 0, 255))\n",
    "cv2.circle(img, org, 3, (0, 255, 0), 2)\n",
    "\n",
    "cv2.imshow('img', img)\n",
    "cv2.waitKey()\n",
    "cv2.destroyAllWindows()\n"
   ]
  }
 ],
 "metadata": {
  "kernelspec": {
   "display_name": "Python 3 (ipykernel)",
   "language": "python",
   "name": "python3"
  },
  "language_info": {
   "codemirror_mode": {
    "name": "ipython",
    "version": 3
   },
   "file_extension": ".py",
   "mimetype": "text/x-python",
   "name": "python",
   "nbconvert_exporter": "python",
   "pygments_lexer": "ipython3",
   "version": "3.9.7"
  }
 },
 "nbformat": 4,
 "nbformat_minor": 5
}
