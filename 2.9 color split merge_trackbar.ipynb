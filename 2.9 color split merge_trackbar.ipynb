{
 "cells": [
  {
   "cell_type": "code",
   "execution_count": 1,
   "metadata": {},
   "outputs": [],
   "source": [
    "import cv2\n",
    "import numpy as np"
   ]
  },
  {
   "cell_type": "code",
   "execution_count": 2,
   "metadata": {},
   "outputs": [],
   "source": [
    "def onChange(pos): # 트랙바 핸들러\n",
    "    global src, img\n",
    "    \n",
    "    # TODO: convert bgr to hsv\n",
    "    hsv = cv2.cvtColor(src, cv2.COLOR_BGR2HSV)\n",
    "    \n",
    "    # TODO: split channels\n",
    "    h,s,v = cv2.split(hsv)\n",
    "    \n",
    "    # TODO: add the v-value\n",
    "    v = cv2.add(v, pos)\n",
    "    \n",
    "    # TODO: merge channels\n",
    "    hsv2 = cv2.merge([h,s,v])\n",
    "    \n",
    "    # TODO: convert hsv to bgr and show the image    \n",
    "    img = cv2.cvtColor(hsv2, cv2.COLOR_HSV2BGR)\n",
    "    \n",
    "    cv2.imshow('img', img)"
   ]
  },
  {
   "cell_type": "code",
   "execution_count": 3,
   "metadata": {},
   "outputs": [],
   "source": [
    "src = cv2.imread('./data/lena.jpg')\n",
    "img = src.copy()\n",
    "cv2.imshow('img',img)\n",
    "\n",
    "# TODO: create a track bar\n",
    "cv2.createTrackbar('V', 'img', 0, 100, onChange) # 0~100 트랙바\n",
    "# TODO: set the pos\n",
    "cv2.setTrackbarPos('V', 'img', 0)\n",
    "\n",
    "cv2.waitKey()    \n",
    "cv2.destroyAllWindows()"
   ]
  },
  {
   "cell_type": "code",
   "execution_count": null,
   "metadata": {},
   "outputs": [],
   "source": []
  }
 ],
 "metadata": {
  "kernelspec": {
   "display_name": "Python 3 (ipykernel)",
   "language": "python",
   "name": "python3"
  },
  "language_info": {
   "codemirror_mode": {
    "name": "ipython",
    "version": 3
   },
   "file_extension": ".py",
   "mimetype": "text/x-python",
   "name": "python",
   "nbconvert_exporter": "python",
   "pygments_lexer": "ipython3",
   "version": "3.9.7"
  }
 },
 "nbformat": 4,
 "nbformat_minor": 4
}
