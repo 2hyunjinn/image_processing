{
 "cells": [
  {
   "cell_type": "code",
   "execution_count": 6,
   "id": "2302a0d6",
   "metadata": {},
   "outputs": [],
   "source": [
    "import cv2\n",
    "import numpy as np\n",
    "from matplotlib import pyplot as plt"
   ]
  },
  {
   "cell_type": "code",
   "execution_count": 12,
   "id": "3f5849eb",
   "metadata": {},
   "outputs": [
    {
     "name": "stdout",
     "output_type": "stream",
     "text": [
      "hist = [[9.]\n",
      " [3.]\n",
      " [2.]\n",
      " [2.]]\n",
      "backP =  [[9 9 9 9]\n",
      " [9 9 3 2]\n",
      " [2 9 9 3]\n",
      " [2 3 9 2]]\n"
     ]
    }
   ],
   "source": [
    "# 4X4 이미지 - 0~7까지 8단계로 구성함\n",
    "src = np.array([[0, 0, 0, 0],\n",
    "              [1, 1, 3, 5],\n",
    "              [6, 1, 1, 3],\n",
    "              [4, 3, 1, 7]\n",
    "              ], dtype=np.uint8)\n",
    "\n",
    "hist = cv2.calcHist(images=[src], channels=[0], mask=None, \n",
    "                     histSize=[4], ranges=[0, 8])\n",
    "print('hist =', hist)\n",
    "\n",
    "# 높은 값이 할당이 됨\n",
    "backP = cv2.calcBackProject([src], [0], hist, [0, 8], scale = 1)\n",
    "print('backP = ', backP)"
   ]
  },
  {
   "cell_type": "code",
   "execution_count": 19,
   "id": "e0615cdc",
   "metadata": {},
   "outputs": [
    {
     "name": "stdout",
     "output_type": "stream",
     "text": [
      "roi = (394, 168, 89, 63)\n",
      "T= 1024.0\n"
     ]
    }
   ],
   "source": [
    "#1\n",
    "src = cv2.imread('./data/fruits.jpg')\n",
    "hsv = cv2.cvtColor(src, cv2.COLOR_BGR2HSV)\n",
    "h,s,v = cv2.split(hsv)\n",
    "\n",
    "#2 히스토그램 -> 역투영\n",
    "roi = cv2.selectROI(src)\n",
    "print('roi =', roi) #x, y, w, h\n",
    "\n",
    "roi_h = h[roi[1]:roi[1]+roi[3], #행\n",
    "           roi[0]:roi[0]+roi[2]] #열\n",
    "\n",
    "hist = cv2.calcHist(images=[roi_h], channels=[0], mask=None, \n",
    "                    histSize=[64], ranges=[0, 256])\n",
    "backP = cv2.calcBackProject([h.astype(np.float32)], [0], hist, \n",
    "                            [0, 256], scale = 1.0)\n",
    "\n",
    "#3 threshold를 통해 이진영상으로 만듦\n",
    "hist = cv2.sort(hist, cv2.SORT_EVERY_COLUMN+cv2.SORT_DESCENDING) \n",
    "#내림차순으로 정렬 - why?\n",
    "#빈도수가 제일 높은 2개만 남기고 없애기!\n",
    "\n",
    "k = 1\n",
    "T = hist[k][0] - 1 #threshold - 이진영상으로 만듦\n",
    "print('T=', T)\n",
    "ret, dst = cv2.threshold(backP, T, 255, cv2.THRESH_BINARY)\n",
    "\n",
    "cv2.imshow('dst', dst)\n",
    "cv2.waitKey()    \n",
    "cv2.destroyAllWindows()"
   ]
  },
  {
   "cell_type": "code",
   "execution_count": null,
   "id": "4041c978",
   "metadata": {},
   "outputs": [],
   "source": []
  },
  {
   "cell_type": "code",
   "execution_count": null,
   "id": "c3a9c169",
   "metadata": {},
   "outputs": [],
   "source": []
  },
  {
   "cell_type": "code",
   "execution_count": null,
   "id": "e1881a42",
   "metadata": {},
   "outputs": [],
   "source": []
  }
 ],
 "metadata": {
  "kernelspec": {
   "display_name": "Python 3 (ipykernel)",
   "language": "python",
   "name": "python3"
  },
  "language_info": {
   "codemirror_mode": {
    "name": "ipython",
    "version": 3
   },
   "file_extension": ".py",
   "mimetype": "text/x-python",
   "name": "python",
   "nbconvert_exporter": "python",
   "pygments_lexer": "ipython3",
   "version": "3.9.7"
  }
 },
 "nbformat": 4,
 "nbformat_minor": 5
}
