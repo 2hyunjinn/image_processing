{
 "cells": [
  {
   "cell_type": "code",
   "execution_count": 14,
   "id": "1f98e044",
   "metadata": {},
   "outputs": [],
   "source": [
    "import cv2\n",
    "import numpy as np"
   ]
  },
  {
   "cell_type": "code",
   "execution_count": 19,
   "id": "daab3749",
   "metadata": {},
   "outputs": [
    {
     "name": "stdout",
     "output_type": "stream",
     "text": [
      "(512, 512)\n"
     ]
    }
   ],
   "source": [
    "src = cv2.imread('./data/lena.jpg', cv2.IMREAD_GRAYSCALE)\n",
    "print(src.shape)\n",
    "\n",
    "dst = cv2.resize(src, dsize = (320, 240)) # 사이즈 320, 240 직접 입력\n",
    "dst2 = cv2.resize(src, dsize = (0,0), fx=1.5, fy=1.2) # 사이즈를 1.5배, 1.2배 비율로 입력\n",
    "\n",
    "cv2.imshow('dst', dst)\n",
    "cv2.imshow('dst2', dst2)\n",
    "cv2.waitKey()\n",
    "cv2.destroyAllWindows()"
   ]
  },
  {
   "cell_type": "code",
   "execution_count": 17,
   "id": "ef31af69",
   "metadata": {},
   "outputs": [],
   "source": [
    "src = cv2.imread('./data/lena.jpg')\n",
    "\n",
    "dst1 = cv2.rotate(src, cv2.ROTATE_90_CLOCKWISE) # 시계방향\n",
    "dst2 = cv2.rotate(src, cv2.ROTATE_90_COUNTERCLOCKWISE) #반시계방향\n",
    "\n",
    "cv2.imshow('dst1', dst1)\n",
    "cv2.imshow('dst2', dst2)\n",
    "cv2.waitKey()\n",
    "cv2.destroyAllWindows()"
   ]
  },
  {
   "cell_type": "code",
   "execution_count": 18,
   "id": "8038971f",
   "metadata": {},
   "outputs": [],
   "source": [
    "src = cv2.imread('./data/lena.jpg')\n",
    "\n",
    "rows, cols, channels = src.shape\n",
    "\n",
    "# 임의의 각도로 회전 가능함!!\n",
    "M1 = cv2.getRotationMatrix2D ((rows/2, cols/2),  45, 0.5) # center, 각도, 스케일\n",
    "M2 = cv2.getRotationMatrix2D ((rows/2, cols/2), -45, 1.0) \n",
    "\n",
    "dst1 = cv2.warpAffine(src, M1, (rows, cols)) # 실제로 변환을 해줌 (src X M1)\n",
    "dst2 = cv2.warpAffine(src, M2, (rows, cols))\n",
    "\n",
    "cv2.imshow('dst1', dst1)\n",
    "cv2.imshow('dst2', dst2)\n",
    "cv2.waitKey()\n",
    "cv2.destroyAllWindows()"
   ]
  },
  {
   "cell_type": "code",
   "execution_count": 20,
   "id": "88e3d9c4",
   "metadata": {},
   "outputs": [],
   "source": [
    "import imutils"
   ]
  },
  {
   "cell_type": "code",
   "execution_count": 24,
   "id": "296d7a6d",
   "metadata": {},
   "outputs": [],
   "source": [
    "src = cv2.imread('./data/lena.jpg')\n",
    "rows, cols, channels = src.shape\n",
    "\n",
    "dst1 = imutils.translate(src, 10, 30)\n",
    "dst2 = imutils.rotate(src, angle = 10, center=(rows/2, cols/2))\n",
    "dst3 = imutils.resize(src, width=100, height=100)\n",
    "\n",
    "cv2.imshow('dst1', dst1)\n",
    "cv2.imshow('dst2', dst2)\n",
    "cv2.imshow('dst3', dst3)\n",
    "cv2.waitKey()\n",
    "cv2.destroyAllWindows()"
   ]
  },
  {
   "cell_type": "code",
   "execution_count": null,
   "id": "b359769e",
   "metadata": {},
   "outputs": [],
   "source": []
  }
 ],
 "metadata": {
  "kernelspec": {
   "display_name": "Python 3 (ipykernel)",
   "language": "python",
   "name": "python3"
  },
  "language_info": {
   "codemirror_mode": {
    "name": "ipython",
    "version": 3
   },
   "file_extension": ".py",
   "mimetype": "text/x-python",
   "name": "python",
   "nbconvert_exporter": "python",
   "pygments_lexer": "ipython3",
   "version": "3.9.7"
  }
 },
 "nbformat": 4,
 "nbformat_minor": 5
}
