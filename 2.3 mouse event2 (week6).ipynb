{
 "cells": [
  {
   "cell_type": "code",
   "execution_count": 1,
   "id": "78c47525",
   "metadata": {},
   "outputs": [],
   "source": [
    "import numpy as np\n",
    "import cv2"
   ]
  },
  {
   "cell_type": "code",
   "execution_count": 2,
   "id": "5025a92d",
   "metadata": {},
   "outputs": [],
   "source": [
    "startx, starty = 0,0 #시작점의 x와 y좌표 저장\n",
    "bRect = True\n",
    "bBtnDwn = False"
   ]
  },
  {
   "cell_type": "code",
   "execution_count": 15,
   "id": "e99794f1",
   "metadata": {},
   "outputs": [],
   "source": [
    "def onMouse(event, x, y, flags, param):\n",
    "    global startx, starty\n",
    "    global bRect, bBtnDwn\n",
    "    \n",
    "    if event == cv2.EVENT_LBUTTONDOWN:\n",
    "        startx, starty = x, y\n",
    "        bRect = True\n",
    "        bBtnDwn = True\n",
    "        \n",
    "    elif event == cv2.EVENT_RBUTTONDOWN:\n",
    "        startx, starty = x, y\n",
    "        bRect = False\n",
    "        bBtnDwn = True\n",
    "        \n",
    "    elif event == cv2.EVENT_MOUSEMOVE:\n",
    "        if bRect == True and bBtnDwn == True:#bRect가 True? 사각형\n",
    "            param[0] = np.zeros((512, 512, 3), np.uint8) + 255 #배경 다시 그리기\n",
    "            cv2.rectangle(param[0], (startx, starty), (x, y), (255, 0, 0))\n",
    "            \n",
    "        elif bRect == False and bBtnDwn == True:#bRect가 False? 원\n",
    "            sizew, sizeh = x-startx, y-starty\n",
    "            centerx, centery = (x+startx)//2, (y+starty)//2\n",
    "            box = ((centerx, centery), (sizew, sizeh), 0) #센터좌표, 사이즈, 각도\n",
    "            param[0] = np.zeros((512, 512, 3), np.uint8) + 255\n",
    "            cv2.ellipse(param[0], box, (0, 0, 255), 5)\n",
    "            \n",
    "    elif event == cv2.EVENT_LBUTTONUP or event == cv2.EVENT_RBUTTONUP: #손을 떼면\n",
    "        bBtnDwn = False # 드래그 끝났다는 걸 표시\n",
    "        \n",
    "    elif event == cv2.EVENT_LBUTTONDBLCLK:\n",
    "        param[0] = np.zeros(param[0].shape, np.uint8) + 255\n",
    "        \n",
    "    cv2.imshow('img', param[0])"
   ]
  },
  {
   "cell_type": "code",
   "execution_count": 16,
   "id": "3c124850",
   "metadata": {},
   "outputs": [],
   "source": [
    "img = np.zeros((512, 512, 3), np.uint8) + 255\n",
    "cv2.imshow('img', img)\n",
    "cv2.setMouseCallback('img', onMouse, [img])\n",
    "cv2.waitKey()\n",
    "cv2.destroyAllWindows()"
   ]
  },
  {
   "cell_type": "code",
   "execution_count": null,
   "id": "bfbd80fe",
   "metadata": {},
   "outputs": [],
   "source": []
  }
 ],
 "metadata": {
  "kernelspec": {
   "display_name": "Python 3 (ipykernel)",
   "language": "python",
   "name": "python3"
  },
  "language_info": {
   "codemirror_mode": {
    "name": "ipython",
    "version": 3
   },
   "file_extension": ".py",
   "mimetype": "text/x-python",
   "name": "python",
   "nbconvert_exporter": "python",
   "pygments_lexer": "ipython3",
   "version": "3.9.7"
  }
 },
 "nbformat": 4,
 "nbformat_minor": 5
}
