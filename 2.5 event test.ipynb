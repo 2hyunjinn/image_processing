{
 "cells": [
  {
   "cell_type": "code",
   "execution_count": 1,
   "id": "239bcc7e",
   "metadata": {},
   "outputs": [],
   "source": [
    "import numpy as np\n",
    "import cv2\n",
    "\n",
    "image1 = './data/lena.jpg'\n",
    "image2 = './data/baboon.jpg'\n",
    "\n",
    "img1 = 0\n",
    "img2 = 0\n",
    "img3 = 0"
   ]
  },
  {
   "cell_type": "code",
   "execution_count": 2,
   "id": "0efd9289",
   "metadata": {},
   "outputs": [],
   "source": [
    "def onChange(pos): #트랙바 핸들러\n",
    "    n = cv2.getTrackbarPos('alpha', 'image')\n",
    "    alpha = n/100 #0~100 퍼센트\n",
    "    \n",
    "    #합이 1이 되도록 해야 0~255사이의 값이 나옴\n",
    "    #alpha - float / img2 - int => 두개를 곱하면? float 형\n",
    "    img3 = np.uint8((alpha*img2 + (1-alpha)*img1)) \n",
    "    cv2.imshow('image', img3)"
   ]
  },
  {
   "cell_type": "code",
   "execution_count": 3,
   "id": "b3d0e66d",
   "metadata": {},
   "outputs": [],
   "source": [
    "img1 = cv2.imread(image1)\n",
    "img2 = cv2.imread(image2)\n",
    "img3 = img1.copy() # img1 & img2 알파 블렌딩\n",
    "\n",
    "cv2.imshow('image', img3)\n",
    "cv2.createTrackbar('alpha', 'image', 0, 100, onChange)\n",
    "\n",
    "cv2.waitKey()\n",
    "cv2.destroyAllWindows()"
   ]
  },
  {
   "cell_type": "code",
   "execution_count": null,
   "id": "2030b0c5",
   "metadata": {},
   "outputs": [],
   "source": []
  }
 ],
 "metadata": {
  "kernelspec": {
   "display_name": "Python 3 (ipykernel)",
   "language": "python",
   "name": "python3"
  },
  "language_info": {
   "codemirror_mode": {
    "name": "ipython",
    "version": 3
   },
   "file_extension": ".py",
   "mimetype": "text/x-python",
   "name": "python",
   "nbconvert_exporter": "python",
   "pygments_lexer": "ipython3",
   "version": "3.9.7"
  }
 },
 "nbformat": 4,
 "nbformat_minor": 5
}
