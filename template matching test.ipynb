{
 "cells": [
  {
   "cell_type": "code",
   "execution_count": 1,
   "id": "7c64296c",
   "metadata": {},
   "outputs": [],
   "source": [
    "import cv2\n",
    "import numpy as np\n",
    "import imutils"
   ]
  },
  {
   "cell_type": "code",
   "execution_count": 30,
   "id": "f77e1ea8",
   "metadata": {},
   "outputs": [
    {
     "name": "stdout",
     "output_type": "stream",
     "text": [
      "TM_SQDIFF_NORMED: 0.13091276586055756 (291, 259)\n"
     ]
    }
   ],
   "source": [
    "src = cv2.imread('./data/input image.jpg', cv2.IMREAD_GRAYSCALE)\n",
    "tmp = cv2.imread('./data/template.jpg', cv2.IMREAD_GRAYSCALE)\n",
    "dst = cv2.cvtColor(src, cv2.COLOR_GRAY2BGR) # 출력 표시 영상\n",
    "\n",
    "R1 = cv2.matchTemplate(src, tmp, cv2.TM_SQDIFF_NORMED)\n",
    "minVal, _, minLoc, _ = cv2.minMaxLoc(R1)\n",
    "print('TM_SQDIFF_NORMED:', minVal, minLoc)\n",
    "\n",
    "w, h = tmp.shape[:2]\n",
    "#print(w, h)\n",
    "cv2. rectangle(dst, minLoc, (minLoc[0]+h, minLoc[1]+w), (255, 0, 0), 2)\n",
    "\n",
    "cv2.imshow('tmp', tmp)\n",
    "cv2.imshow('dst', dst)\n",
    "cv2.waitKey()\n",
    "cv2.destroyAllWindows()"
   ]
  },
  {
   "cell_type": "code",
   "execution_count": 31,
   "id": "3c765c8c",
   "metadata": {},
   "outputs": [
    {
     "data": {
      "text/plain": [
       "array([1.        , 1.15789474, 1.31578947, 1.47368421, 1.63157895,\n",
       "       1.78947368, 1.94736842, 2.10526316, 2.26315789, 2.42105263,\n",
       "       2.57894737, 2.73684211, 2.89473684, 3.05263158, 3.21052632,\n",
       "       3.36842105, 3.52631579, 3.68421053, 3.84210526, 4.        ])"
      ]
     },
     "execution_count": 31,
     "metadata": {},
     "output_type": "execute_result"
    }
   ],
   "source": [
    "np.linspace(1.0, 4.0, 20)"
   ]
  },
  {
   "cell_type": "code",
   "execution_count": 2,
   "id": "d8864ddd",
   "metadata": {},
   "outputs": [],
   "source": [
    "src = cv2.imread('./data/input image.jpg', cv2.IMREAD_GRAYSCALE)\n",
    "tmp = cv2.imread('./data/template.jpg', cv2.IMREAD_GRAYSCALE)\n",
    "dst = cv2.cvtColor(src, cv2.COLOR_GRAY2BGR) # 출력 표시 영상\n",
    "\n",
    "minVal = 10000\n",
    "minLoc = (0, 0)\n",
    "minscale = 0\n",
    "minlist = []\n",
    "\n",
    "# 템플릿을 점점 키워서 매칭해보기!\n",
    "for scale in np.linspace(1.0, 4.0, 20): #스케일을 1~4까지 20개를 만듦\n",
    "    #for angle in np.linspae(-10.0, 10.0, 30):\n",
    "    resized = imutils.resize(tmp, width = int(tmp.shape[1] * scale)) #템플릿 리사이즈\n",
    "    R1 = cv2.matchTemplate(src, resized, cv2.TM_SQDIFF_NORMED) #리사이즈 된 템플릿 매칭 시도\n",
    "    tempminVal, _, tempminLoc, _ = cv2.minMaxLoc(R1)\n",
    "    if minVal > tempminVal:\n",
    "        minVal = tempminVal\n",
    "        minLoc = tempminLoc\n",
    "        minscale = scale\n",
    "\n",
    "h = int(tmp.shape[0] * minscale)\n",
    "w = int(tmp.shape[1] * minscale)\n",
    "cv2. rectangle(dst, minLoc, (minLoc[0]+w, minLoc[1]+h), (255, 0, 0), 2)\n",
    "\n",
    "cv2.imshow('tmplate', tmp)\n",
    "cv2.imshow('dst', dst)\n",
    "cv2.waitKey()\n",
    "cv2.destroyAllWindows()"
   ]
  },
  {
   "cell_type": "code",
   "execution_count": null,
   "id": "256b2760",
   "metadata": {},
   "outputs": [],
   "source": []
  }
 ],
 "metadata": {
  "kernelspec": {
   "display_name": "Python 3 (ipykernel)",
   "language": "python",
   "name": "python3"
  },
  "language_info": {
   "codemirror_mode": {
    "name": "ipython",
    "version": 3
   },
   "file_extension": ".py",
   "mimetype": "text/x-python",
   "name": "python",
   "nbconvert_exporter": "python",
   "pygments_lexer": "ipython3",
   "version": "3.9.7"
  }
 },
 "nbformat": 4,
 "nbformat_minor": 5
}
