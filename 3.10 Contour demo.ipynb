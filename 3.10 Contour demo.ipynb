{
 "cells": [
  {
   "cell_type": "code",
   "execution_count": 5,
   "id": "6d3c6225",
   "metadata": {},
   "outputs": [],
   "source": [
    "import cv2\n",
    "import numpy as np\n",
    "import imutils"
   ]
  },
  {
   "cell_type": "code",
   "execution_count": 14,
   "id": "6be99808",
   "metadata": {},
   "outputs": [],
   "source": [
    "image = cv2.imread('./data/more_shapes.png', cv2.IMREAD_COLOR)\n",
    "gray = cv2.cvtColor(image, cv2.COLOR_BGR2GRAY)\n",
    "ret, mask = cv2.threshold(gray, 50, 255, cv2.THRESH_BINARY)\n",
    "cv2.imshow('mask', mask)\n",
    "cv2.waitKey()\n",
    "cv2.destroyAllWindows()"
   ]
  },
  {
   "cell_type": "markdown",
   "id": "f1344235",
   "metadata": {},
   "source": [
    "# Bounding box"
   ]
  },
  {
   "cell_type": "code",
   "execution_count": 13,
   "id": "9e2a5848",
   "metadata": {},
   "outputs": [],
   "source": [
    "#find external contours in the image\n",
    "cnts, _ = cv2.findContours(mask, cv2.RETR_EXTERNAL, cv2.CHAIN_APPROX_SIMPLE)\n",
    "\n",
    "#clone the original image\n",
    "clone = image.copy()\n",
    "\n",
    "#loop over the contours\n",
    "for c in cnts:\n",
    "    #fit a bounding box to the contour\n",
    "    (x, y, w, h) = cv2.boundingRect(c) #contour를 포함한 최소한의 바운딩박스 반환\n",
    "    cv2.rectangle(clone, (x,y), (x+w, y+h), (0, 255, 0), 2)\n",
    "    \n",
    "#show the output image\n",
    "cv2.imshow('Bounding Boxes', clone) # 얘는 수직, 수평만 가능\n",
    "cv2.waitKey()\n",
    "cv2.destroyAllWindows()"
   ]
  },
  {
   "cell_type": "markdown",
   "id": "68e9f93c",
   "metadata": {},
   "source": [
    "# Oriented Bounding Box"
   ]
  },
  {
   "cell_type": "code",
   "execution_count": 9,
   "id": "ef4bf347",
   "metadata": {},
   "outputs": [],
   "source": [
    "#clone the original image\n",
    "clone = image.copy()\n",
    "\n",
    "#loop over the contours\n",
    "for c in cnts:\n",
    "    #fit a bounding box to the contour\n",
    "    rect = cv2.minAreaRect(c)\n",
    "    #print(rect)\n",
    "    box = cv2.boxPoints(rect)\n",
    "    #print(box)\n",
    "    box = np.int0(box)\n",
    "    cv2.drawContours(clone, [box], -1, (0, 255, 0), 2)\n",
    "    \n",
    "#show the output image\n",
    "cv2.imshow('Oriented Bounding Boxes', clone) #얘는 대각선도 가능\n",
    "cv2.waitKey()\n",
    "cv2.destroyAllWindows()"
   ]
  },
  {
   "cell_type": "markdown",
   "id": "da02429d",
   "metadata": {},
   "source": [
    "# Bound Sphere"
   ]
  },
  {
   "cell_type": "code",
   "execution_count": 10,
   "id": "a8e33165",
   "metadata": {},
   "outputs": [],
   "source": [
    "#clone the original image\n",
    "clone = image.copy()\n",
    "\n",
    "#loop over the contours\n",
    "for c in cnts:\n",
    "    (x,y), r = cv2.minEnclosingCircle(c)\n",
    "    center = (int(x), int(y))\n",
    "    r = int(r)\n",
    "    cv2.circle(clone, center, r, (255, 0, 0), 3)\n",
    "    \n",
    "#show the output image\n",
    "cv2.imshow('Bounding Sphere', clone) #object를 포함하는 최소한의 바운딩 원\n",
    "cv2.waitKey()\n",
    "cv2.destroyAllWindows()\n",
    "\n",
    "#원의 반지름만 체크하면 되기 때문에 충돌체크하기 가장 좋음!!!**"
   ]
  },
  {
   "cell_type": "markdown",
   "id": "b494cb71",
   "metadata": {},
   "source": [
    "# Convex Hull"
   ]
  },
  {
   "cell_type": "code",
   "execution_count": 17,
   "id": "cdb00a1b",
   "metadata": {},
   "outputs": [],
   "source": [
    "#clone the original image\n",
    "clone = image.copy()\n",
    "\n",
    "#loop over the contours\n",
    "for c in cnts:\n",
    "    hull = cv2.convexHull(c)\n",
    "    cv2.drawContours(clone, [hull], -1, (0, 0, 255), 2)\n",
    "    \n",
    "#show the output image\n",
    "cv2.imshow('Convexhull', clone) #bounding box를 도형에 딱 맞게 반환\n",
    "cv2.waitKey()\n",
    "cv2.destroyAllWindows()"
   ]
  },
  {
   "cell_type": "code",
   "execution_count": null,
   "id": "16e4760d",
   "metadata": {},
   "outputs": [],
   "source": []
  }
 ],
 "metadata": {
  "kernelspec": {
   "display_name": "Python 3 (ipykernel)",
   "language": "python",
   "name": "python3"
  },
  "language_info": {
   "codemirror_mode": {
    "name": "ipython",
    "version": 3
   },
   "file_extension": ".py",
   "mimetype": "text/x-python",
   "name": "python",
   "nbconvert_exporter": "python",
   "pygments_lexer": "ipython3",
   "version": "3.9.7"
  }
 },
 "nbformat": 4,
 "nbformat_minor": 5
}
