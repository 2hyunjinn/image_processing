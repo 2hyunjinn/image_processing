{
 "cells": [
  {
   "cell_type": "code",
   "execution_count": 2,
   "id": "b30a621e",
   "metadata": {},
   "outputs": [],
   "source": [
    "import cv2\n",
    "import numpy as np"
   ]
  },
  {
   "cell_type": "code",
   "execution_count": 6,
   "id": "78fb63e7",
   "metadata": {},
   "outputs": [],
   "source": [
    "src = cv2.imread('./data/morphology.jpg', cv2.IMREAD_GRAYSCALE)\n",
    "kernel = cv2.getStructuringElement(shape=cv2.MORPH_RECT, ksize = (3,3))\n",
    "\n",
    "#iterations - 몇 번 할 것인가?\n",
    "erode = cv2.erode(src, kernel, iterations = 5) # 침식\n",
    "dilate = cv2.dilate(src, kernel, iterations = 5) # 팽창\n",
    "\n",
    "#iterations을 다르게 하고 싶을 때 closing, opening 안쓰고 따로 쓰기\n",
    "erode2 = cv2.erode(dilate, kernel, iterations = 2) # 닫기\n",
    "dilate2 = cv2.dilate(erode, kernel, iterations = 2) #열기\n",
    "\n",
    "cv2.imshow('src', src)\n",
    "cv2.imshow('e', erode)\n",
    "cv2.imshow('d', dilate)\n",
    "cv2.imshow('e2', erode2)\n",
    "cv2.imshow('d2', dilate2)\n",
    "cv2.waitKey()\n",
    "cv2.destroyAllWindows()"
   ]
  },
  {
   "cell_type": "code",
   "execution_count": 5,
   "id": "62ee4d86",
   "metadata": {},
   "outputs": [],
   "source": [
    "src = cv2.imread('./data/morphology.jpg', cv2.IMREAD_GRAYSCALE)\n",
    "kernel = cv2.getStructuringElement(shape = cv2.MORPH_RECT, ksize=(3,3))\n",
    "closing = cv2.morphologyEx(src, cv2.MORPH_CLOSE, kernel, iterations=5)\n",
    "opening = cv2.morphologyEx(src, cv2.MORPH_OPEN, kernel, iterations=5)\n",
    "gradient = cv2.morphologyEx(src, cv2.MORPH_GRADIENT, kernel)\n",
    "#gradient = cv2.morphologyEx(src, cv2.MORPH_GRADIENT, kernel, iterations=5)\n",
    "\n",
    "tophat = cv2.morphologyEx(src, cv2.MORPH_TOPHAT, kernel, iterations = 5)\n",
    "blackhat = cv2.morphologyEx(src, cv2.MORPH_BLACKHAT, kernel, iterations = 5)\n",
    "\n",
    "cv2.imshow('o', opening)\n",
    "cv2.imshow('c', closing)\n",
    "cv2.imshow('g', gradient) # 외곽선\n",
    "cv2.imshow('t', tophat) # nosie 만\n",
    "cv2.imshow('h', blackhat) # hole만\n",
    "cv2.waitKey()\n",
    "cv2.destroyAllWindows()"
   ]
  },
  {
   "cell_type": "code",
   "execution_count": null,
   "id": "09b65040",
   "metadata": {},
   "outputs": [],
   "source": []
  }
 ],
 "metadata": {
  "kernelspec": {
   "display_name": "Python 3 (ipykernel)",
   "language": "python",
   "name": "python3"
  },
  "language_info": {
   "codemirror_mode": {
    "name": "ipython",
    "version": 3
   },
   "file_extension": ".py",
   "mimetype": "text/x-python",
   "name": "python",
   "nbconvert_exporter": "python",
   "pygments_lexer": "ipython3",
   "version": "3.9.7"
  }
 },
 "nbformat": 4,
 "nbformat_minor": 5
}
