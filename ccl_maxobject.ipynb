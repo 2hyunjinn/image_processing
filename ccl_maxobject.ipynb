{
 "cells": [
  {
   "cell_type": "code",
   "execution_count": 12,
   "id": "c3ab628f",
   "metadata": {},
   "outputs": [],
   "source": [
    "import numpy as np\n",
    "import cv2"
   ]
  },
  {
   "cell_type": "code",
   "execution_count": 13,
   "id": "7448cda0",
   "metadata": {},
   "outputs": [],
   "source": [
    "src = cv2.imread('./data/components.png')\n",
    "gray = cv2.cvtColor(src, cv2.COLOR_BGR2GRAY) #gray 영상으로 변환\n",
    "#background가 흰색이기 때문에 INV를 통해 배경을 까맣게 만들어줌\n",
    "ret, binimg = cv2.threshold(gray, 128, 255, cv2.THRESH_BINARY_INV+cv2.THRESH_OTSU)\n",
    "\n",
    "cv2.imshow('src', src)\n",
    "cv2.imshow('res', binimg)\n",
    "cv2.waitKey()\n",
    "cv2.destroyAllWindows()"
   ]
  },
  {
   "cell_type": "code",
   "execution_count": 14,
   "id": "d10f606b",
   "metadata": {},
   "outputs": [
    {
     "name": "stdout",
     "output_type": "stream",
     "text": [
      "ret 4\n",
      "stats [[     0      0    712    582 296963]\n",
      " [    70     73    339    339  90190]\n",
      " [   549     83     96    166  15936]\n",
      " [   470    372    128    163  11295]]\n",
      "centroids [[371.16598027 305.74581345]\n",
      " [239.03803082 242.03477104]\n",
      " [596.5        165.5       ]\n",
      " [533.53563524 453.01761842]]\n"
     ]
    }
   ],
   "source": [
    "#ret - 총 component 갯수 (배경 + 세개의 도형 = 4)\n",
    "#labels - 라벨링된 이미지\n",
    "#stats - 바운딩 박스 정보 + area\n",
    "#centroids - component의 중점\n",
    "ret, labels, stats, centroids = cv2.connectedComponentsWithStats(binimg)\n",
    "print('ret', ret)\n",
    "print('stats', stats)\n",
    "print('centroids', centroids)"
   ]
  },
  {
   "cell_type": "code",
   "execution_count": 15,
   "id": "94e0b909",
   "metadata": {},
   "outputs": [
    {
     "name": "stdout",
     "output_type": "stream",
     "text": [
      "area [90190, 15936, 11295]\n",
      "max label= 1\n"
     ]
    }
   ],
   "source": [
    "areas = [s[4] for s in stats[1:]] # 배경을 제외한 component를 저장함\n",
    "print('area', areas)\n",
    "\n",
    "idx = np.argmax(areas) # 값이 가장 큰 area 반환\n",
    "print(f'max label= {idx+1}') "
   ]
  },
  {
   "cell_type": "code",
   "execution_count": 17,
   "id": "26f2428b",
   "metadata": {},
   "outputs": [],
   "source": [
    "largest_label = 1+idx\n",
    "mask = (labels == largest_label) #같은 곳을 true로 저장\n",
    "final_comp = mask*255 #같으면 255, 다르면 0으로 설정\n",
    "final_comp = cv2.convertScaleAbs(final_comp)\n",
    "\n",
    "cv2.imshow('src', src)\n",
    "cv2.imshow('final_comp', final_comp)\n",
    "cv2.waitKey()\n",
    "cv2.destroyAllWindows()"
   ]
  },
  {
   "cell_type": "code",
   "execution_count": null,
   "id": "6d253ac5",
   "metadata": {},
   "outputs": [],
   "source": []
  }
 ],
 "metadata": {
  "kernelspec": {
   "display_name": "Python 3 (ipykernel)",
   "language": "python",
   "name": "python3"
  },
  "language_info": {
   "codemirror_mode": {
    "name": "ipython",
    "version": 3
   },
   "file_extension": ".py",
   "mimetype": "text/x-python",
   "name": "python",
   "nbconvert_exporter": "python",
   "pygments_lexer": "ipython3",
   "version": "3.9.7"
  }
 },
 "nbformat": 4,
 "nbformat_minor": 5
}
