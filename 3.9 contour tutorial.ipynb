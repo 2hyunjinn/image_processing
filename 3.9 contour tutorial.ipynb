{
 "cells": [
  {
   "cell_type": "code",
   "execution_count": 15,
   "id": "79a40f03",
   "metadata": {},
   "outputs": [],
   "source": [
    "import cv2\n",
    "import numpy as np"
   ]
  },
  {
   "cell_type": "code",
   "execution_count": 16,
   "id": "7324f7ab",
   "metadata": {},
   "outputs": [],
   "source": [
    "src = np.zeros(shape=(512, 512, 3), dtype=np.uint8)\n",
    "\n",
    "#두께 -1? 사각형의 내부를 채움\n",
    "cv2.rectangle(src, (50, 100), (450, 400), (255, 255, 255), -1)\n",
    "cv2.rectangle(src, (100, 150), (400, 350), (0, 0, 0), -1)\n",
    "cv2.rectangle(src, (200, 200), (300, 300), (255, 255, 255), -1)\n",
    "gray = cv2.cvtColor(src, cv2.COLOR_BGR2GRAY)"
   ]
  },
  {
   "cell_type": "code",
   "execution_count": 21,
   "id": "c4496d51",
   "metadata": {},
   "outputs": [
    {
     "name": "stdout",
     "output_type": "stream",
     "text": [
      "type(contours)= <class 'tuple'>\n",
      "type(contours[0])= <class 'numpy.ndarray'>\n",
      "len(contours)= 3\n",
      "contours[0].shape= (4, 1, 2)\n",
      "contours[0]= [[[200 200]]\n",
      "\n",
      " [[200 300]]\n",
      "\n",
      " [[300 300]]\n",
      "\n",
      " [[300 200]]]\n"
     ]
    }
   ],
   "source": [
    "mode = cv2.RETR_EXTERNAL\n",
    "#mode = cv2.RETR_LIST # 안에있는 외곽선까지 검출됨\n",
    "method = cv2.CHAIN_APPROX_SIMPLE # countour점 4개의 꼭지점만 검출됨\n",
    "#method = cv2.CHAIN_APPROX_NONE #countour점들이 모두 검출됨*******\n",
    "\n",
    "#contours - 컨투어 정보를 줌, hierachy 구조 정보까지 줌\n",
    "contours, hierachy = cv2.findContours(gray, mode, method)\n",
    "print('type(contours)=', type(contours))\n",
    "print('type(contours[0])=', type(contours[0]))\n",
    "print('len(contours)=', len(contours)) #mode가 external이기 때문에 1개만 검출됨\n",
    "print('contours[0].shape=', contours[0].shape) #contour 포인트 개수 = simple이므로 4개\n",
    "print('contours[0]=', contours[0])"
   ]
  },
  {
   "cell_type": "code",
   "execution_count": 22,
   "id": "571be37b",
   "metadata": {},
   "outputs": [],
   "source": [
    "cv2.drawContours(src, contours, -1, (255,0,0), 3) #모든 윤곽선\n",
    "\n",
    "for pt in contours[0][:] : #윤곽선 좌표\n",
    "    cv2.circle(src, (pt[0][0], pt[0][1]), 5, (0,0,255), -1)\n",
    "    \n",
    "cv2.imshow('src', src)\n",
    "cv2.waitKey()\n",
    "cv2.destroyAllWindows()"
   ]
  },
  {
   "cell_type": "code",
   "execution_count": null,
   "id": "666e6c18",
   "metadata": {},
   "outputs": [],
   "source": []
  }
 ],
 "metadata": {
  "kernelspec": {
   "display_name": "Python 3 (ipykernel)",
   "language": "python",
   "name": "python3"
  },
  "language_info": {
   "codemirror_mode": {
    "name": "ipython",
    "version": 3
   },
   "file_extension": ".py",
   "mimetype": "text/x-python",
   "name": "python",
   "nbconvert_exporter": "python",
   "pygments_lexer": "ipython3",
   "version": "3.9.7"
  }
 },
 "nbformat": 4,
 "nbformat_minor": 5
}
